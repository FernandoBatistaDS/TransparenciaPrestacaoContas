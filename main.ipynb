{
 "cells": [
  {
   "cell_type": "markdown",
   "metadata": {},
   "source": [
    "O nosso projeto é sobre os dados que tem no portal do CEAPS (Cota para Exercício da Atividade Parlamentar dos Senadores)\n",
    "\n",
    "Os topicos:\n",
    "\n",
    "-   0.0 - Vamos analisar os dados de forma mais criterioas\n",
    "-   1.0 - "
   ]
  },
  {
   "cell_type": "markdown",
   "metadata": {},
   "source": [
    "# Imports"
   ]
  },
  {
   "cell_type": "code",
   "execution_count": 1,
   "metadata": {},
   "outputs": [],
   "source": [
    "import  pandas  as  pd\n",
    "import  numpy   as  np\n",
    "\n",
    "import  re"
   ]
  },
  {
   "cell_type": "markdown",
   "metadata": {},
   "source": [
    "# 0.0 DataSets, analisando os dados"
   ]
  },
  {
   "cell_type": "markdown",
   "metadata": {},
   "source": [
    "##### Importando todos os dados de 2008 até 2022"
   ]
  },
  {
   "cell_type": "code",
   "execution_count": 2,
   "metadata": {},
   "outputs": [],
   "source": [
    "df_ceaps_2008 = pd.read_csv('./datasets/despesa_ceaps_2008.csv', encoding='ISO-8859-1', sep=';', skiprows=1, dtype={'COD_DOCUMENTO': str})\n",
    "df_ceaps_2009 = pd.read_csv('./datasets/despesa_ceaps_2009.csv', encoding='ISO-8859-1', sep=';', skiprows=1, dtype={'COD_DOCUMENTO': str})\n",
    "df_ceaps_2010 = pd.read_csv('./datasets/despesa_ceaps_2010.csv', encoding='ISO-8859-1', sep=';', skiprows=1, dtype={'COD_DOCUMENTO': str})\n",
    "df_ceaps_2011 = pd.read_csv('./datasets/despesa_ceaps_2011.csv', encoding='ISO-8859-1', sep=';', skiprows=1, dtype={'COD_DOCUMENTO': str})\n",
    "df_ceaps_2012 = pd.read_csv('./datasets/despesa_ceaps_2012.csv', encoding='ISO-8859-1', sep=';', skiprows=1, dtype={'COD_DOCUMENTO': str})\n",
    "df_ceaps_2013 = pd.read_csv('./datasets/despesa_ceaps_2013.csv', encoding='ISO-8859-1', sep=';', skiprows=1, dtype={'COD_DOCUMENTO': str})\n",
    "df_ceaps_2014 = pd.read_csv('./datasets/despesa_ceaps_2014.csv', encoding='ISO-8859-1', sep=';', skiprows=1, dtype={'COD_DOCUMENTO': str})\n",
    "df_ceaps_2015 = pd.read_csv('./datasets/despesa_ceaps_2015.csv', encoding='ISO-8859-1', sep=';', skiprows=1, dtype={'COD_DOCUMENTO': str})\n",
    "df_ceaps_2016 = pd.read_csv('./datasets/despesa_ceaps_2016.csv', encoding='ISO-8859-1', sep=';', skiprows=1, dtype={'COD_DOCUMENTO': str})\n",
    "df_ceaps_2017 = pd.read_csv('./datasets/despesa_ceaps_2017.csv', encoding='ISO-8859-1', sep=';', skiprows=1, dtype={'COD_DOCUMENTO': str})\n",
    "df_ceaps_2018 = pd.read_csv('./datasets/despesa_ceaps_2018.csv', encoding='ISO-8859-1', sep=';', skiprows=1, dtype={'COD_DOCUMENTO': str})\n",
    "df_ceaps_2019 = pd.read_csv('./datasets/despesa_ceaps_2019.csv', encoding='ISO-8859-1', sep=';', skiprows=1, dtype={'COD_DOCUMENTO': str})\n",
    "df_ceaps_2020 = pd.read_csv('./datasets/despesa_ceaps_2020.csv', encoding='ISO-8859-1', sep=';', skiprows=1, dtype={'COD_DOCUMENTO': str})\n",
    "df_ceaps_2021 = pd.read_csv('./datasets/despesa_ceaps_2021.csv', encoding='ISO-8859-1', sep=';', skiprows=1, dtype={'COD_DOCUMENTO': str})\n",
    "df_ceaps_2022 = pd.read_csv('./datasets/despesa_ceaps_2022.csv', encoding='ISO-8859-1', sep=';', skiprows=1, dtype={'COD_DOCUMENTO': str})"
   ]
  },
  {
   "cell_type": "markdown",
   "metadata": {},
   "source": [
    "##### Concatenando todos os datasets para facilitar a analise, as colunas são do mesmo tamanho e tipo "
   ]
  },
  {
   "cell_type": "code",
   "execution_count": 3,
   "metadata": {},
   "outputs": [],
   "source": [
    "df = pd.concat([\n",
    "    df_ceaps_2008,\n",
    "    df_ceaps_2009,\n",
    "    df_ceaps_2010,\n",
    "    df_ceaps_2011,\n",
    "    df_ceaps_2012,\n",
    "    df_ceaps_2013,\n",
    "    df_ceaps_2014,\n",
    "    df_ceaps_2015,\n",
    "    df_ceaps_2016,\n",
    "    df_ceaps_2017,\n",
    "    df_ceaps_2018,\n",
    "    df_ceaps_2019,\n",
    "    df_ceaps_2020,\n",
    "    df_ceaps_2021,\n",
    "    df_ceaps_2022\n",
    "], axis=0)\n"
   ]
  },
  {
   "cell_type": "markdown",
   "metadata": {},
   "source": [
    "##### Quantos dados temos?\n",
    "\n",
    "R: Temos 317963 registros"
   ]
  },
  {
   "cell_type": "code",
   "execution_count": 4,
   "metadata": {},
   "outputs": [
    {
     "data": {
      "text/plain": [
       "317963"
      ]
     },
     "execution_count": 4,
     "metadata": {},
     "output_type": "execute_result"
    }
   ],
   "source": [
    "len(df)"
   ]
  },
  {
   "cell_type": "code",
   "execution_count": 5,
   "metadata": {},
   "outputs": [
    {
     "name": "stdout",
     "output_type": "stream",
     "text": [
      "<class 'pandas.core.frame.DataFrame'>\n",
      "Index: 317963 entries, 0 to 16781\n",
      "Data columns (total 11 columns):\n",
      " #   Column             Non-Null Count   Dtype \n",
      "---  ------             --------------   ----- \n",
      " 0   ANO                317963 non-null  int64 \n",
      " 1   MES                317963 non-null  int64 \n",
      " 2   SENADOR            317963 non-null  object\n",
      " 3   TIPO_DESPESA       317963 non-null  object\n",
      " 4   CNPJ_CPF           314819 non-null  object\n",
      " 5   FORNECEDOR         314819 non-null  object\n",
      " 6   DOCUMENTO          293153 non-null  object\n",
      " 7   DATA               314819 non-null  object\n",
      " 8   DETALHAMENTO       180631 non-null  object\n",
      " 9   VALOR_REEMBOLSADO  317963 non-null  object\n",
      " 10  COD_DOCUMENTO      317961 non-null  object\n",
      "dtypes: int64(2), object(9)\n",
      "memory usage: 29.1+ MB\n"
     ]
    }
   ],
   "source": [
    "df.info()"
   ]
  },
  {
   "cell_type": "markdown",
   "metadata": {},
   "source": [
    "### Entendendo os campos"
   ]
  },
  {
   "cell_type": "markdown",
   "metadata": {},
   "source": [
    "##### Novos campos"
   ]
  },
  {
   "cell_type": "markdown",
   "metadata": {},
   "source": [
    "['ANO_MES'] concatenando os valores ANO + MES"
   ]
  },
  {
   "cell_type": "code",
   "execution_count": 6,
   "metadata": {},
   "outputs": [],
   "source": [
    "df['ANO_MES'] = pd.to_datetime(df['ANO'].astype(str) + '-' + df['MES'].astype(str), format='%Y-%m')"
   ]
  },
  {
   "cell_type": "code",
   "execution_count": 7,
   "metadata": {},
   "outputs": [],
   "source": [
    "#################################################################\n",
    "#\n",
    "#\n",
    "# Vamos analisar quantidades de numero no COD_DOCUMENTO\n",
    "# Aparentemente os valores diferentes de 6 e 7 caracteres não tem DOCUMENTOS\n",
    "#\n",
    "#################################################################\n",
    "\n",
    "df['NUM_LETRAS_COD_DOCUMENTO'] = df['COD_DOCUMENTO'].str.len()"
   ]
  },
  {
   "cell_type": "markdown",
   "metadata": {},
   "source": [
    "##### Insert nos campos"
   ]
  },
  {
   "cell_type": "code",
   "execution_count": 8,
   "metadata": {},
   "outputs": [],
   "source": [
    "# df.loc[df['ANO_MES'] < '2009-04-01', ['DOCUMENTO']] = 'NÃO TINHA CADASTRO'"
   ]
  },
  {
   "cell_type": "markdown",
   "metadata": {},
   "source": [
    "##### Analisar os campos"
   ]
  },
  {
   "cell_type": "code",
   "execution_count": 9,
   "metadata": {},
   "outputs": [
    {
     "data": {
      "text/html": [
       "<div>\n",
       "<style scoped>\n",
       "    .dataframe tbody tr th:only-of-type {\n",
       "        vertical-align: middle;\n",
       "    }\n",
       "\n",
       "    .dataframe tbody tr th {\n",
       "        vertical-align: top;\n",
       "    }\n",
       "\n",
       "    .dataframe thead th {\n",
       "        text-align: right;\n",
       "    }\n",
       "</style>\n",
       "<table border=\"1\" class=\"dataframe\">\n",
       "  <thead>\n",
       "    <tr style=\"text-align: right;\">\n",
       "      <th></th>\n",
       "      <th>ANO</th>\n",
       "      <th>MES</th>\n",
       "      <th>SENADOR</th>\n",
       "      <th>TIPO_DESPESA</th>\n",
       "      <th>CNPJ_CPF</th>\n",
       "      <th>FORNECEDOR</th>\n",
       "      <th>DOCUMENTO</th>\n",
       "      <th>DATA</th>\n",
       "      <th>DETALHAMENTO</th>\n",
       "      <th>VALOR_REEMBOLSADO</th>\n",
       "      <th>COD_DOCUMENTO</th>\n",
       "      <th>ANO_MES</th>\n",
       "      <th>NUM_LETRAS_COD_DOCUMENTO</th>\n",
       "    </tr>\n",
       "  </thead>\n",
       "  <tbody>\n",
       "    <tr>\n",
       "      <th>0</th>\n",
       "      <td>2008</td>\n",
       "      <td>9</td>\n",
       "      <td>ADA MELLO</td>\n",
       "      <td>Contratação de consultorias, assessorias, pesq...</td>\n",
       "      <td>NaN</td>\n",
       "      <td>NaN</td>\n",
       "      <td>NaN</td>\n",
       "      <td>NaN</td>\n",
       "      <td>NaN</td>\n",
       "      <td>12351,52</td>\n",
       "      <td>2008090814004</td>\n",
       "      <td>2008-09-01</td>\n",
       "      <td>13.0</td>\n",
       "    </tr>\n",
       "    <tr>\n",
       "      <th>1</th>\n",
       "      <td>2008</td>\n",
       "      <td>9</td>\n",
       "      <td>ADA MELLO</td>\n",
       "      <td>Locomoção, hospedagem, alimentação, combustíve...</td>\n",
       "      <td>NaN</td>\n",
       "      <td>NaN</td>\n",
       "      <td>NaN</td>\n",
       "      <td>NaN</td>\n",
       "      <td>NaN</td>\n",
       "      <td>386,6</td>\n",
       "      <td>2008090814003</td>\n",
       "      <td>2008-09-01</td>\n",
       "      <td>13.0</td>\n",
       "    </tr>\n",
       "    <tr>\n",
       "      <th>2</th>\n",
       "      <td>2008</td>\n",
       "      <td>10</td>\n",
       "      <td>ADA MELLO</td>\n",
       "      <td>Contratação de consultorias, assessorias, pesq...</td>\n",
       "      <td>NaN</td>\n",
       "      <td>NaN</td>\n",
       "      <td>NaN</td>\n",
       "      <td>NaN</td>\n",
       "      <td>NaN</td>\n",
       "      <td>12351,52</td>\n",
       "      <td>2008100814004</td>\n",
       "      <td>2008-10-01</td>\n",
       "      <td>13.0</td>\n",
       "    </tr>\n",
       "    <tr>\n",
       "      <th>3</th>\n",
       "      <td>2008</td>\n",
       "      <td>10</td>\n",
       "      <td>ADA MELLO</td>\n",
       "      <td>Locomoção, hospedagem, alimentação, combustíve...</td>\n",
       "      <td>NaN</td>\n",
       "      <td>NaN</td>\n",
       "      <td>NaN</td>\n",
       "      <td>NaN</td>\n",
       "      <td>NaN</td>\n",
       "      <td>2610,68</td>\n",
       "      <td>2008100814003</td>\n",
       "      <td>2008-10-01</td>\n",
       "      <td>13.0</td>\n",
       "    </tr>\n",
       "    <tr>\n",
       "      <th>4</th>\n",
       "      <td>2008</td>\n",
       "      <td>11</td>\n",
       "      <td>ADA MELLO</td>\n",
       "      <td>Contratação de consultorias, assessorias, pesq...</td>\n",
       "      <td>NaN</td>\n",
       "      <td>NaN</td>\n",
       "      <td>NaN</td>\n",
       "      <td>NaN</td>\n",
       "      <td>NaN</td>\n",
       "      <td>12351,52</td>\n",
       "      <td>2008110814004</td>\n",
       "      <td>2008-11-01</td>\n",
       "      <td>13.0</td>\n",
       "    </tr>\n",
       "  </tbody>\n",
       "</table>\n",
       "</div>"
      ],
      "text/plain": [
       "    ANO  MES    SENADOR                                       TIPO_DESPESA  \\\n",
       "0  2008    9  ADA MELLO  Contratação de consultorias, assessorias, pesq...   \n",
       "1  2008    9  ADA MELLO  Locomoção, hospedagem, alimentação, combustíve...   \n",
       "2  2008   10  ADA MELLO  Contratação de consultorias, assessorias, pesq...   \n",
       "3  2008   10  ADA MELLO  Locomoção, hospedagem, alimentação, combustíve...   \n",
       "4  2008   11  ADA MELLO  Contratação de consultorias, assessorias, pesq...   \n",
       "\n",
       "  CNPJ_CPF FORNECEDOR DOCUMENTO DATA DETALHAMENTO VALOR_REEMBOLSADO  \\\n",
       "0      NaN        NaN       NaN  NaN          NaN          12351,52   \n",
       "1      NaN        NaN       NaN  NaN          NaN             386,6   \n",
       "2      NaN        NaN       NaN  NaN          NaN          12351,52   \n",
       "3      NaN        NaN       NaN  NaN          NaN           2610,68   \n",
       "4      NaN        NaN       NaN  NaN          NaN          12351,52   \n",
       "\n",
       "   COD_DOCUMENTO    ANO_MES  NUM_LETRAS_COD_DOCUMENTO  \n",
       "0  2008090814004 2008-09-01                      13.0  \n",
       "1  2008090814003 2008-09-01                      13.0  \n",
       "2  2008100814004 2008-10-01                      13.0  \n",
       "3  2008100814003 2008-10-01                      13.0  \n",
       "4  2008110814004 2008-11-01                      13.0  "
      ]
     },
     "execution_count": 9,
     "metadata": {},
     "output_type": "execute_result"
    }
   ],
   "source": [
    "df.head()"
   ]
  },
  {
   "cell_type": "markdown",
   "metadata": {},
   "source": [
    "<span style=\"color:red\">A principio, não temos dados no campo CNPJ_CPF, FORNECEDORM DOCUMENTO, DATA e DETALHAMENTO</span>\n",
    "\n",
    "- Verificamos e tem valores, não são todos nulos"
   ]
  },
  {
   "cell_type": "code",
   "execution_count": 10,
   "metadata": {},
   "outputs": [
    {
     "data": {
      "text/plain": [
       "Index(['ANO', 'MES', 'SENADOR', 'TIPO_DESPESA', 'CNPJ_CPF', 'FORNECEDOR',\n",
       "       'DOCUMENTO', 'DATA', 'DETALHAMENTO', 'VALOR_REEMBOLSADO',\n",
       "       'COD_DOCUMENTO', 'ANO_MES', 'NUM_LETRAS_COD_DOCUMENTO'],\n",
       "      dtype='object')"
      ]
     },
     "execution_count": 10,
     "metadata": {},
     "output_type": "execute_result"
    }
   ],
   "source": [
    "df.columns"
   ]
  },
  {
   "cell_type": "markdown",
   "metadata": {},
   "source": [
    "##### Vamos analisar melhor o campo CNPJ_CPF\n",
    "\n",
    "- 3144 dos dados estão com os valores nulos\n",
    "- Valores nulos de 2008-02 até 2009-03\n",
    "- Os valores começam a ser preenchidos em 2009-04\n",
    "\n",
    "<span style=\"color:green\">Não vamos deletar o campo! Acredito que tenham colocado esse campo depois da data 2009-03.</span>\n",
    "<br>\n",
    "<span style=\"color:green\">Preenche com \"00000000000\"</span>"
   ]
  },
  {
   "cell_type": "code",
   "execution_count": 11,
   "metadata": {},
   "outputs": [
    {
     "data": {
      "text/plain": [
       "array([nan, '004.948.028-63', '02.831.112/0002-09', ...,\n",
       "       '05.044.096/0002-94', '41.365.622/0001-09', '34.307.872/0001-19'],\n",
       "      dtype=object)"
      ]
     },
     "execution_count": 11,
     "metadata": {},
     "output_type": "execute_result"
    }
   ],
   "source": [
    "# CNPJ_CPF\n",
    "df['CNPJ_CPF'].unique()"
   ]
  },
  {
   "cell_type": "code",
   "execution_count": 12,
   "metadata": {},
   "outputs": [
    {
     "data": {
      "text/plain": [
       "(Timestamp('2008-02-01 00:00:00'), Timestamp('2009-03-01 00:00:00'))"
      ]
     },
     "execution_count": 12,
     "metadata": {},
     "output_type": "execute_result"
    }
   ],
   "source": [
    "df[df['CNPJ_CPF'].isnull()]['ANO_MES'].min(), df[df['CNPJ_CPF'].isnull()]['ANO_MES'].max()"
   ]
  },
  {
   "cell_type": "code",
   "execution_count": 13,
   "metadata": {},
   "outputs": [
    {
     "data": {
      "text/plain": [
       "(Timestamp('2009-04-01 00:00:00'), Timestamp('2022-12-01 00:00:00'))"
      ]
     },
     "execution_count": 13,
     "metadata": {},
     "output_type": "execute_result"
    }
   ],
   "source": [
    "df[df['CNPJ_CPF'].notna()]['ANO_MES'].min(), df[df['CNPJ_CPF'].notna()]['ANO_MES'].max()"
   ]
  },
  {
   "cell_type": "markdown",
   "metadata": {},
   "source": [
    "##### Campo FORNECEDOR\n",
    "\n",
    "- 3144 dos dados estão com os valores nulos\n",
    "- Valores nulos de 2008-02 até 2009-03\n",
    "- Os valores começam a ser preenchidos em 2009-04\n",
    "\n",
    "<span style=\"color:green\">Não vamos deletar o campo! Acredito que tenham colocado esse campo depois da data 2009-03.</span>\n",
    "<br>\n",
    "<span style=\"color:green\">Preenche com \"FORNECEDOR NÃO CADASTRADO\"</span>"
   ]
  },
  {
   "cell_type": "code",
   "execution_count": 14,
   "metadata": {},
   "outputs": [
    {
     "data": {
      "text/plain": [
       "array([nan, 'GILBERTO PISELO DO NASCIMENTO',\n",
       "       'INTERCOM INTERMEDIAÇÕES E COMUNICAÇÃO INTEGRADA LTDA', ...,\n",
       "       'RCM COMUNICAÇÃO E SERVIÇOS LTDA.',\n",
       "       'AM & AP COMÉRCIO DE ALIMENTOS LTDA.-ME',\n",
       "       'J M F COMÉRCIO DE COMBUSTIVEIS LTDA.'], dtype=object)"
      ]
     },
     "execution_count": 14,
     "metadata": {},
     "output_type": "execute_result"
    }
   ],
   "source": [
    "# FORNECEDOR\n",
    "df['FORNECEDOR'].unique()"
   ]
  },
  {
   "cell_type": "code",
   "execution_count": 15,
   "metadata": {},
   "outputs": [
    {
     "data": {
      "text/plain": [
       "3144"
      ]
     },
     "execution_count": 15,
     "metadata": {},
     "output_type": "execute_result"
    }
   ],
   "source": [
    "len(df[df['FORNECEDOR'].isna()])"
   ]
  },
  {
   "cell_type": "code",
   "execution_count": 16,
   "metadata": {},
   "outputs": [
    {
     "data": {
      "text/plain": [
       "(Timestamp('2008-02-01 00:00:00'), Timestamp('2009-03-01 00:00:00'))"
      ]
     },
     "execution_count": 16,
     "metadata": {},
     "output_type": "execute_result"
    }
   ],
   "source": [
    "df[df['FORNECEDOR'].isnull()]['ANO_MES'].min(), df[df['FORNECEDOR'].isnull()]['ANO_MES'].max()"
   ]
  },
  {
   "cell_type": "code",
   "execution_count": 17,
   "metadata": {},
   "outputs": [
    {
     "data": {
      "text/plain": [
       "(Timestamp('2009-04-01 00:00:00'), Timestamp('2022-12-01 00:00:00'))"
      ]
     },
     "execution_count": 17,
     "metadata": {},
     "output_type": "execute_result"
    }
   ],
   "source": [
    "df[df['FORNECEDOR'].notna()]['ANO_MES'].min(), df[df['FORNECEDOR'].notna()]['ANO_MES'].max()"
   ]
  },
  {
   "cell_type": "markdown",
   "metadata": {},
   "source": [
    "##### Campo DOCUMENTO\n",
    "\n",
    "- 24810 dos dados estão com os valores nulos\n",
    "- Valores nulos de 2008-02 até 2009-03, <span style=\"color: yellow\">mas ainda tem valores nulos depois dessa data</span>\n",
    "- Valores diferentes de 6 e 7 caracteres estão nulos, <span style=\"color: yellow\"> tem valores nulos com 6 e 7 caracteres</span>\n",
    "- DOCUMENTO NULO com NUM_LETRAS_COD_DOCUMENTO > 7 o DETALHAMENTO é tudo NULL, <span style=\"color: yellow\"> tem valores nulos com 6 e 7 caracteres</span>\n",
    "\n",
    "\n",
    "\n",
    "<span style=\"color:red\">Não achamos nada especifico, vamos analisar melhor nos graficos.</span>"
   ]
  },
  {
   "cell_type": "code",
   "execution_count": 18,
   "metadata": {},
   "outputs": [
    {
     "data": {
      "text/plain": [
       "array([nan, '000330', '106471', ..., 'THPKVQ', 'QNN9HX', 'WMQWBX'],\n",
       "      dtype=object)"
      ]
     },
     "execution_count": 18,
     "metadata": {},
     "output_type": "execute_result"
    }
   ],
   "source": [
    "# DOCUMENTO\n",
    "df['DOCUMENTO'].unique()"
   ]
  },
  {
   "cell_type": "code",
   "execution_count": 19,
   "metadata": {},
   "outputs": [
    {
     "data": {
      "text/plain": [
       "(24810, 293153)"
      ]
     },
     "execution_count": 19,
     "metadata": {},
     "output_type": "execute_result"
    }
   ],
   "source": [
    "len(df[df['DOCUMENTO'].isna()]), len(df[df['DOCUMENTO'].notna()])"
   ]
  },
  {
   "cell_type": "markdown",
   "metadata": {},
   "source": [
    "Vendo se tem NUM_LETRAS_COD_DOCUMENTO > 8 na epoca que não tinha dados"
   ]
  },
  {
   "cell_type": "code",
   "execution_count": 20,
   "metadata": {},
   "outputs": [
    {
     "data": {
      "text/plain": [
       "(3144, 3144)"
      ]
     },
     "execution_count": 20,
     "metadata": {},
     "output_type": "execute_result"
    }
   ],
   "source": [
    "len(df.loc[( (df['ANO_MES'] < '2009-04-01') & (df['NUM_LETRAS_COD_DOCUMENTO'] > 8) )]), len( df.loc[df['ANO_MES'] < '2009-04-01' ] )"
   ]
  },
  {
   "cell_type": "code",
   "execution_count": 21,
   "metadata": {},
   "outputs": [
    {
     "name": "stdout",
     "output_type": "stream",
     "text": [
      "Nulos\n"
     ]
    },
    {
     "data": {
      "text/plain": [
       "(Timestamp('2008-02-01 00:00:00'), Timestamp('2022-12-01 00:00:00'))"
      ]
     },
     "execution_count": 21,
     "metadata": {},
     "output_type": "execute_result"
    }
   ],
   "source": [
    "print(\"Nulos\")\n",
    "df[df['DOCUMENTO'].isnull()]['ANO_MES'].min(), df[df['DOCUMENTO'].isnull()]['ANO_MES'].max()"
   ]
  },
  {
   "cell_type": "code",
   "execution_count": 22,
   "metadata": {},
   "outputs": [
    {
     "name": "stdout",
     "output_type": "stream",
     "text": [
      "Não nulos\n"
     ]
    },
    {
     "data": {
      "text/plain": [
       "(Timestamp('2009-04-01 00:00:00'), Timestamp('2022-12-01 00:00:00'))"
      ]
     },
     "execution_count": 22,
     "metadata": {},
     "output_type": "execute_result"
    }
   ],
   "source": [
    "print(\"Não nulos\")\n",
    "df[df['DOCUMENTO'].notna()]['ANO_MES'].min(), df[df['DOCUMENTO'].notna()]['ANO_MES'].max()"
   ]
  },
  {
   "cell_type": "code",
   "execution_count": 23,
   "metadata": {},
   "outputs": [
    {
     "name": "stdout",
     "output_type": "stream",
     "text": [
      "Valores não NULOS, min e max: 6.0 e 7.0\n"
     ]
    }
   ],
   "source": [
    "print(\"Valores não NULOS, min e max: {} e {}\".format(df[(df['DOCUMENTO'].notna())]['NUM_LETRAS_COD_DOCUMENTO'].min(), df[(df['DOCUMENTO'].notna())]['NUM_LETRAS_COD_DOCUMENTO'].max()))"
   ]
  },
  {
   "cell_type": "code",
   "execution_count": 24,
   "metadata": {},
   "outputs": [
    {
     "name": "stdout",
     "output_type": "stream",
     "text": [
      "Valores NULOS, min e max: 6.0 e 13.0\n"
     ]
    }
   ],
   "source": [
    "print(\"Valores NULOS, min e max: {} e {}\".format(df[(df['DOCUMENTO'].isnull())]['NUM_LETRAS_COD_DOCUMENTO'].min(), df[(df['DOCUMENTO'].isnull())]['NUM_LETRAS_COD_DOCUMENTO'].max()))"
   ]
  },
  {
   "cell_type": "code",
   "execution_count": 25,
   "metadata": {},
   "outputs": [
    {
     "data": {
      "text/plain": [
       "array([nan, 'Referente a multa de remarcação.',\n",
       "       'Senadpr Armando Monteiro Referente a multa de remarcação.', ...,\n",
       "       'DESPESA DE ALUGUEL DO ESCRITÓRIO DE APOIO DO SENADOR RODRIGO CUNHA - NOVEMBRO 2022',\n",
       "       'DESPESA DE ALUGUEL DO ESCRITÓRIO DE APOIO DO SENADOR RODRIGO CUNHA EM MACEIÓ DEZEMBRO 2022',\n",
       "       'Pagamento integral de despesas com IPTU referente ao ano de 2022, do Escritório de Representação da senadora Simone Tebet em Campo Grande/MS.'],\n",
       "      dtype=object)"
      ]
     },
     "execution_count": 25,
     "metadata": {},
     "output_type": "execute_result"
    }
   ],
   "source": [
    "df[(df['DOCUMENTO'].isnull()) & (df['NUM_LETRAS_COD_DOCUMENTO'] < 8)]['DETALHAMENTO'].unique()"
   ]
  },
  {
   "cell_type": "code",
   "execution_count": 26,
   "metadata": {},
   "outputs": [
    {
     "data": {
      "text/plain": [
       "array([nan,\n",
       "       'BILHETE UTILIZADO PELO SENADOR ACIR GURGACZ. TRECHO: BRASÍLIA/ CUIABÁ. TAM-VOO-JJ-3648. DIA22/JUN/2011.',\n",
       "       'BILHETE UTILIZADO PELO SENADOR ACIR GURGACZ. TRECHO: PORTO VELHO/BRASÍLIA. TAM-VOO-JJ-3687. DIA-27/JUN/2011.',\n",
       "       ...,\n",
       "       'Companhia Aérea: TAM, Localizador: THPKVQ. Passageiros: JOSÉ DA CRUZ MARINHO (Matrícula 341141, PARLAMENTAR), Voo: 3608 - BSB/BELÉM - 22/12/2022;',\n",
       "       'Companhia Aérea: AZUL, Localizador: QNN9HX. Passageiros: JOSÉ DA CRUZ MARINHO (Matrícula 341141, PARLAMENTAR), Voo: 4112 - BEL/MAB - 23/12/2022;',\n",
       "       'Companhia Aérea: TAM, Localizador: WMQWBX. Passageiros: YURI PEREIRA CARNEIRO AGE (Matrícula 300461, COMISSIONADO), Voo: 3608 - BSB/BELÉM - 08/01/2023; YURI PEREIRA CARNEIRO AGE (Matrícula 300461, COMISSIONADO), Voo: 3609 - BELÉM/BSB - 20/01/2023;'],\n",
       "      dtype=object)"
      ]
     },
     "execution_count": 26,
     "metadata": {},
     "output_type": "execute_result"
    }
   ],
   "source": [
    "df['DETALHAMENTO'].unique()"
   ]
  },
  {
   "cell_type": "code",
   "execution_count": 27,
   "metadata": {},
   "outputs": [
    {
     "data": {
      "text/plain": [
       "293152"
      ]
     },
     "execution_count": 27,
     "metadata": {},
     "output_type": "execute_result"
    }
   ],
   "source": [
    "# len(df[df['DOCUMENTO'].isnull()]['COD_DOCUMENTO'].unique())\n",
    "len(df[df['DOCUMENTO'].notna()]['COD_DOCUMENTO'].unique())"
   ]
  },
  {
   "cell_type": "markdown",
   "metadata": {},
   "source": [
    "##### Campo DATA\n",
    "\n",
    "- 3144 dos dados estão com os valores nulos\n",
    "- Valores nulos de 2008-02 até 2009-03\n",
    "- Os valores começam a ser preenchidos em 2009-04\n",
    "-------------------------\n",
    "- Valores diferentes de 6 e 7 caracteres estão nulos, <span style=\"color: yellow\"> tem valores nulos com 6 e 7 caracteres</span>\n",
    "- DOCUMENTO NULO com NUM_LETRAS_COD_DOCUMENTO > 7 o DETALHAMENTO é tudo NULL, <span style=\"color: yellow\"> tem valores nulos com 6 e 7 caracteres</span>\n",
    "\n",
    "\n",
    "<span style=\"color:green\">Não vamos deletar o campo! Acredito que tenham colocado esse campo depois da data 2009-03.</span>\n",
    "<br>\n",
    "<span style=\"color:green\">Preenche com \"FORNECEDOR NÃO CADASTRADO\"</span>"
   ]
  },
  {
   "cell_type": "code",
   "execution_count": 28,
   "metadata": {},
   "outputs": [
    {
     "data": {
      "text/plain": [
       "3144"
      ]
     },
     "execution_count": 28,
     "metadata": {},
     "output_type": "execute_result"
    }
   ],
   "source": [
    "len(df[df['DATA'].isnull()])"
   ]
  },
  {
   "cell_type": "code",
   "execution_count": 29,
   "metadata": {},
   "outputs": [
    {
     "name": "stdout",
     "output_type": "stream",
     "text": [
      "NULOS\n"
     ]
    },
    {
     "data": {
      "text/plain": [
       "(Timestamp('2008-02-01 00:00:00'), Timestamp('2009-03-01 00:00:00'))"
      ]
     },
     "execution_count": 29,
     "metadata": {},
     "output_type": "execute_result"
    }
   ],
   "source": [
    "print('NULOS')\n",
    "df[df['DATA'].isnull()]['ANO_MES'].min(), df[df['DATA'].isnull()]['ANO_MES'].max()"
   ]
  },
  {
   "cell_type": "code",
   "execution_count": 30,
   "metadata": {},
   "outputs": [
    {
     "name": "stdout",
     "output_type": "stream",
     "text": [
      "NÃO NULOS\n"
     ]
    },
    {
     "data": {
      "text/plain": [
       "(Timestamp('2009-04-01 00:00:00'), Timestamp('2022-12-01 00:00:00'))"
      ]
     },
     "execution_count": 30,
     "metadata": {},
     "output_type": "execute_result"
    }
   ],
   "source": [
    "print('NÃO NULOS')\n",
    "df[df['DATA'].notna()]['ANO_MES'].min(), df[df['DATA'].notna()]['ANO_MES'].max()"
   ]
  },
  {
   "cell_type": "markdown",
   "metadata": {},
   "source": [
    "Verificando a diferença dos campos ANO_MES e DATA"
   ]
  },
  {
   "cell_type": "markdown",
   "metadata": {},
   "source": [
    "Removendo os valores NULOS"
   ]
  },
  {
   "cell_type": "code",
   "execution_count": 31,
   "metadata": {},
   "outputs": [],
   "source": [
    "df_aux = df[df['DATA'].notna()] "
   ]
  },
  {
   "cell_type": "markdown",
   "metadata": {},
   "source": [
    "Verificando os formatados diferentes de data\n",
    "\n",
    "- Identificamos que foi um erro no CSV, então vamos eliminar esses casos que apareceram.\n",
    "- Tem dados que tem espaços, vamos tirar"
   ]
  },
  {
   "cell_type": "code",
   "execution_count": 32,
   "metadata": {},
   "outputs": [
    {
     "name": "stderr",
     "output_type": "stream",
     "text": [
      "C:\\Users\\ferna\\AppData\\Local\\Temp\\ipykernel_5028\\1099961831.py:2: UserWarning: This pattern is interpreted as a regular expression, and has match groups. To actually get the groups, use str.extract.\n",
      "  df_aux[~df_aux['DATA'].str.contains(regex_data)]\n"
     ]
    },
    {
     "data": {
      "text/html": [
       "<div>\n",
       "<style scoped>\n",
       "    .dataframe tbody tr th:only-of-type {\n",
       "        vertical-align: middle;\n",
       "    }\n",
       "\n",
       "    .dataframe tbody tr th {\n",
       "        vertical-align: top;\n",
       "    }\n",
       "\n",
       "    .dataframe thead th {\n",
       "        text-align: right;\n",
       "    }\n",
       "</style>\n",
       "<table border=\"1\" class=\"dataframe\">\n",
       "  <thead>\n",
       "    <tr style=\"text-align: right;\">\n",
       "      <th></th>\n",
       "      <th>ANO</th>\n",
       "      <th>MES</th>\n",
       "      <th>SENADOR</th>\n",
       "      <th>TIPO_DESPESA</th>\n",
       "      <th>CNPJ_CPF</th>\n",
       "      <th>FORNECEDOR</th>\n",
       "      <th>DOCUMENTO</th>\n",
       "      <th>DATA</th>\n",
       "      <th>DETALHAMENTO</th>\n",
       "      <th>VALOR_REEMBOLSADO</th>\n",
       "      <th>COD_DOCUMENTO</th>\n",
       "      <th>ANO_MES</th>\n",
       "      <th>NUM_LETRAS_COD_DOCUMENTO</th>\n",
       "    </tr>\n",
       "  </thead>\n",
       "  <tbody>\n",
       "    <tr>\n",
       "      <th>5922</th>\n",
       "      <td>2015</td>\n",
       "      <td>8</td>\n",
       "      <td>EDUARDO AMORIM</td>\n",
       "      <td>Passagens aéreas, aquáticas e terrestres nacio...</td>\n",
       "      <td>13.353.495/0001-84</td>\n",
       "      <td>PROPAGTUR - Propag Turismo Ltda</td>\n",
       "      <td>SEM FATURA\";02/08/2015\"</td>\n",
       "      <td>Companhia Aérea: TAM, Localizador: YXGDSJ. Pas...</td>\n",
       "      <td>469,53</td>\n",
       "      <td>2014675</td>\n",
       "      <td>NaN</td>\n",
       "      <td>2015-08-01</td>\n",
       "      <td>NaN</td>\n",
       "    </tr>\n",
       "    <tr>\n",
       "      <th>5929</th>\n",
       "      <td>2015</td>\n",
       "      <td>8</td>\n",
       "      <td>EDUARDO AMORIM</td>\n",
       "      <td>Passagens aéreas, aquáticas e terrestres nacio...</td>\n",
       "      <td>13.353.495/0001-84</td>\n",
       "      <td>PROPAGTUR - Propag Turismo Ltda</td>\n",
       "      <td>¨¨SEM FATURA\";17/08/2015\"</td>\n",
       "      <td>Companhia Aérea: AVIANCA, Localizador: ZNEU9F....</td>\n",
       "      <td>460,45</td>\n",
       "      <td>2016557</td>\n",
       "      <td>NaN</td>\n",
       "      <td>2015-08-01</td>\n",
       "      <td>NaN</td>\n",
       "    </tr>\n",
       "  </tbody>\n",
       "</table>\n",
       "</div>"
      ],
      "text/plain": [
       "       ANO  MES         SENADOR  \\\n",
       "5922  2015    8  EDUARDO AMORIM   \n",
       "5929  2015    8  EDUARDO AMORIM   \n",
       "\n",
       "                                           TIPO_DESPESA            CNPJ_CPF  \\\n",
       "5922  Passagens aéreas, aquáticas e terrestres nacio...  13.353.495/0001-84   \n",
       "5929  Passagens aéreas, aquáticas e terrestres nacio...  13.353.495/0001-84   \n",
       "\n",
       "                           FORNECEDOR                  DOCUMENTO  \\\n",
       "5922  PROPAGTUR - Propag Turismo Ltda    SEM FATURA\";02/08/2015\"   \n",
       "5929  PROPAGTUR - Propag Turismo Ltda  ¨¨SEM FATURA\";17/08/2015\"   \n",
       "\n",
       "                                                   DATA DETALHAMENTO  \\\n",
       "5922  Companhia Aérea: TAM, Localizador: YXGDSJ. Pas...       469,53   \n",
       "5929  Companhia Aérea: AVIANCA, Localizador: ZNEU9F....       460,45   \n",
       "\n",
       "     VALOR_REEMBOLSADO COD_DOCUMENTO    ANO_MES  NUM_LETRAS_COD_DOCUMENTO  \n",
       "5922           2014675           NaN 2015-08-01                       NaN  \n",
       "5929           2016557           NaN 2015-08-01                       NaN  "
      ]
     },
     "execution_count": 32,
     "metadata": {},
     "output_type": "execute_result"
    }
   ],
   "source": [
    "regex_data = re.compile(r\"^(0[1-9]|[12]\\d|3[01])/(0[1-9]|1[0-2])/\\d{4}$\")\n",
    "df_aux[~df_aux['DATA'].str.contains(regex_data)]"
   ]
  },
  {
   "cell_type": "code",
   "execution_count": 33,
   "metadata": {},
   "outputs": [
    {
     "name": "stderr",
     "output_type": "stream",
     "text": [
      "C:\\Users\\ferna\\AppData\\Local\\Temp\\ipykernel_5028\\1755870735.py:3: UserWarning: This pattern is interpreted as a regular expression, and has match groups. To actually get the groups, use str.extract.\n",
      "  df_aux          =   df_aux[df_aux['DATA'].str.contains(regex_data)]\n"
     ]
    }
   ],
   "source": [
    "# Vamos fazer um REGEX para capturar as DATAS com formatos certos\n",
    "regex_data      =   re.compile(r\"^(0[1-9]|[12]\\d|3[01])/(0[1-9]|1[0-2])/\\d{4}$\")\n",
    "df_aux          =   df_aux[df_aux['DATA'].str.contains(regex_data)]"
   ]
  },
  {
   "cell_type": "code",
   "execution_count": 34,
   "metadata": {},
   "outputs": [
    {
     "name": "stderr",
     "output_type": "stream",
     "text": [
      "C:\\Users\\ferna\\AppData\\Local\\Temp\\ipykernel_5028\\2451307728.py:2: UserWarning: This pattern is interpreted as a regular expression, and has match groups. To actually get the groups, use str.extract.\n",
      "  df_aux[df_aux['DATA'].str.contains(regex_data)]['DATA']\n"
     ]
    }
   ],
   "source": [
    "df_aux['DATA_2']  =   pd.to_datetime(\n",
    "                        df_aux[df_aux['DATA'].str.contains(regex_data)]['DATA']\n",
    "                        # format='mixed'\n",
    "                        , format='%d/%m/%Y'\n",
    "                        , errors='coerce'\n",
    "                    )\n"
   ]
  },
  {
   "cell_type": "code",
   "execution_count": 35,
   "metadata": {},
   "outputs": [],
   "source": [
    "dt_diferente    =  df_aux[df_aux['DATA_2'].dt.strftime(\"%m/%Y\") != df_aux['ANO_MES'].dt.strftime(\"%m/%Y\")]\n",
    "dt_igual        =  df_aux[df_aux['DATA_2'].dt.strftime(\"%m/%Y\") == df_aux['ANO_MES'].dt.strftime(\"%m/%Y\")]"
   ]
  },
  {
   "cell_type": "code",
   "execution_count": 36,
   "metadata": {},
   "outputs": [
    {
     "data": {
      "text/html": [
       "<div>\n",
       "<style scoped>\n",
       "    .dataframe tbody tr th:only-of-type {\n",
       "        vertical-align: middle;\n",
       "    }\n",
       "\n",
       "    .dataframe tbody tr th {\n",
       "        vertical-align: top;\n",
       "    }\n",
       "\n",
       "    .dataframe thead th {\n",
       "        text-align: right;\n",
       "    }\n",
       "</style>\n",
       "<table border=\"1\" class=\"dataframe\">\n",
       "  <thead>\n",
       "    <tr style=\"text-align: right;\">\n",
       "      <th></th>\n",
       "      <th>ANO</th>\n",
       "      <th>MES</th>\n",
       "      <th>SENADOR</th>\n",
       "      <th>TIPO_DESPESA</th>\n",
       "      <th>CNPJ_CPF</th>\n",
       "      <th>FORNECEDOR</th>\n",
       "      <th>DOCUMENTO</th>\n",
       "      <th>DATA</th>\n",
       "      <th>DETALHAMENTO</th>\n",
       "      <th>VALOR_REEMBOLSADO</th>\n",
       "      <th>COD_DOCUMENTO</th>\n",
       "      <th>ANO_MES</th>\n",
       "      <th>NUM_LETRAS_COD_DOCUMENTO</th>\n",
       "      <th>DATA_2</th>\n",
       "    </tr>\n",
       "  </thead>\n",
       "  <tbody>\n",
       "    <tr>\n",
       "      <th>10</th>\n",
       "      <td>2009</td>\n",
       "      <td>5</td>\n",
       "      <td>ADELMIR SANTANA</td>\n",
       "      <td>Contratação de consultorias, assessorias, pesq...</td>\n",
       "      <td>02.142.987/0001-04</td>\n",
       "      <td>C A Guimarães Baião Consultores Associados S/S...</td>\n",
       "      <td>0202</td>\n",
       "      <td>05/06/2009</td>\n",
       "      <td>NaN</td>\n",
       "      <td>12475</td>\n",
       "      <td>167178</td>\n",
       "      <td>2009-05-01</td>\n",
       "      <td>6.0</td>\n",
       "      <td>2009-06-05</td>\n",
       "    </tr>\n",
       "    <tr>\n",
       "      <th>23</th>\n",
       "      <td>2009</td>\n",
       "      <td>8</td>\n",
       "      <td>ADELMIR SANTANA</td>\n",
       "      <td>Contratação de consultorias, assessorias, pesq...</td>\n",
       "      <td>02.142.987/0001-04</td>\n",
       "      <td>CA Guimarães Baião Consultores Associados S/S ...</td>\n",
       "      <td>223</td>\n",
       "      <td>30/03/2010</td>\n",
       "      <td>NaN</td>\n",
       "      <td>10500</td>\n",
       "      <td>251383</td>\n",
       "      <td>2009-08-01</td>\n",
       "      <td>6.0</td>\n",
       "      <td>2010-03-30</td>\n",
       "    </tr>\n",
       "    <tr>\n",
       "      <th>24</th>\n",
       "      <td>2009</td>\n",
       "      <td>8</td>\n",
       "      <td>ADELMIR SANTANA</td>\n",
       "      <td>Contratação de consultorias, assessorias, pesq...</td>\n",
       "      <td>01.666.674/0001-92</td>\n",
       "      <td>CAC Consultoria Política</td>\n",
       "      <td>337</td>\n",
       "      <td>02/09/2009</td>\n",
       "      <td>NaN</td>\n",
       "      <td>3000</td>\n",
       "      <td>209474</td>\n",
       "      <td>2009-08-01</td>\n",
       "      <td>6.0</td>\n",
       "      <td>2009-09-02</td>\n",
       "    </tr>\n",
       "    <tr>\n",
       "      <th>25</th>\n",
       "      <td>2009</td>\n",
       "      <td>9</td>\n",
       "      <td>ADELMIR SANTANA</td>\n",
       "      <td>Contratação de consultorias, assessorias, pesq...</td>\n",
       "      <td>02.142.987/0001-04</td>\n",
       "      <td>CA Guimarães Baião Consultores Associados S/S ...</td>\n",
       "      <td>224</td>\n",
       "      <td>30/03/2010</td>\n",
       "      <td>NaN</td>\n",
       "      <td>12000</td>\n",
       "      <td>251384</td>\n",
       "      <td>2009-09-01</td>\n",
       "      <td>6.0</td>\n",
       "      <td>2010-03-30</td>\n",
       "    </tr>\n",
       "    <tr>\n",
       "      <th>27</th>\n",
       "      <td>2009</td>\n",
       "      <td>10</td>\n",
       "      <td>ADELMIR SANTANA</td>\n",
       "      <td>Divulgação da atividade parlamentar</td>\n",
       "      <td>09.320.613/0001-80</td>\n",
       "      <td>KRV Vídeos e Marketing Ltda EPP</td>\n",
       "      <td>255</td>\n",
       "      <td>30/03/2010</td>\n",
       "      <td>NaN</td>\n",
       "      <td>14850</td>\n",
       "      <td>251385</td>\n",
       "      <td>2009-10-01</td>\n",
       "      <td>6.0</td>\n",
       "      <td>2010-03-30</td>\n",
       "    </tr>\n",
       "  </tbody>\n",
       "</table>\n",
       "</div>"
      ],
      "text/plain": [
       "     ANO  MES          SENADOR  \\\n",
       "10  2009    5  ADELMIR SANTANA   \n",
       "23  2009    8  ADELMIR SANTANA   \n",
       "24  2009    8  ADELMIR SANTANA   \n",
       "25  2009    9  ADELMIR SANTANA   \n",
       "27  2009   10  ADELMIR SANTANA   \n",
       "\n",
       "                                         TIPO_DESPESA            CNPJ_CPF  \\\n",
       "10  Contratação de consultorias, assessorias, pesq...  02.142.987/0001-04   \n",
       "23  Contratação de consultorias, assessorias, pesq...  02.142.987/0001-04   \n",
       "24  Contratação de consultorias, assessorias, pesq...  01.666.674/0001-92   \n",
       "25  Contratação de consultorias, assessorias, pesq...  02.142.987/0001-04   \n",
       "27                Divulgação da atividade parlamentar  09.320.613/0001-80   \n",
       "\n",
       "                                           FORNECEDOR DOCUMENTO        DATA  \\\n",
       "10  C A Guimarães Baião Consultores Associados S/S...      0202  05/06/2009   \n",
       "23  CA Guimarães Baião Consultores Associados S/S ...       223  30/03/2010   \n",
       "24                           CAC Consultoria Política       337  02/09/2009   \n",
       "25  CA Guimarães Baião Consultores Associados S/S ...       224  30/03/2010   \n",
       "27                    KRV Vídeos e Marketing Ltda EPP       255  30/03/2010   \n",
       "\n",
       "   DETALHAMENTO VALOR_REEMBOLSADO COD_DOCUMENTO    ANO_MES  \\\n",
       "10          NaN             12475        167178 2009-05-01   \n",
       "23          NaN             10500        251383 2009-08-01   \n",
       "24          NaN              3000        209474 2009-08-01   \n",
       "25          NaN             12000        251384 2009-09-01   \n",
       "27          NaN             14850        251385 2009-10-01   \n",
       "\n",
       "    NUM_LETRAS_COD_DOCUMENTO     DATA_2  \n",
       "10                       6.0 2009-06-05  \n",
       "23                       6.0 2010-03-30  \n",
       "24                       6.0 2009-09-02  \n",
       "25                       6.0 2010-03-30  \n",
       "27                       6.0 2010-03-30  "
      ]
     },
     "execution_count": 36,
     "metadata": {},
     "output_type": "execute_result"
    }
   ],
   "source": [
    "dt_diferente.head()"
   ]
  },
  {
   "cell_type": "code",
   "execution_count": 37,
   "metadata": {},
   "outputs": [
    {
     "data": {
      "text/html": [
       "<div>\n",
       "<style scoped>\n",
       "    .dataframe tbody tr th:only-of-type {\n",
       "        vertical-align: middle;\n",
       "    }\n",
       "\n",
       "    .dataframe tbody tr th {\n",
       "        vertical-align: top;\n",
       "    }\n",
       "\n",
       "    .dataframe thead th {\n",
       "        text-align: right;\n",
       "    }\n",
       "</style>\n",
       "<table border=\"1\" class=\"dataframe\">\n",
       "  <thead>\n",
       "    <tr style=\"text-align: right;\">\n",
       "      <th></th>\n",
       "      <th>ANO</th>\n",
       "      <th>MES</th>\n",
       "      <th>SENADOR</th>\n",
       "      <th>TIPO_DESPESA</th>\n",
       "      <th>CNPJ_CPF</th>\n",
       "      <th>FORNECEDOR</th>\n",
       "      <th>DOCUMENTO</th>\n",
       "      <th>DATA</th>\n",
       "      <th>DETALHAMENTO</th>\n",
       "      <th>VALOR_REEMBOLSADO</th>\n",
       "      <th>COD_DOCUMENTO</th>\n",
       "      <th>ANO_MES</th>\n",
       "      <th>NUM_LETRAS_COD_DOCUMENTO</th>\n",
       "      <th>DATA_2</th>\n",
       "    </tr>\n",
       "  </thead>\n",
       "  <tbody>\n",
       "    <tr>\n",
       "      <th>0</th>\n",
       "      <td>2009</td>\n",
       "      <td>12</td>\n",
       "      <td>ACIR GURGACZ</td>\n",
       "      <td>Aluguel de imóveis para escritório político, c...</td>\n",
       "      <td>004.948.028-63</td>\n",
       "      <td>GILBERTO PISELO DO NASCIMENTO</td>\n",
       "      <td>NaN</td>\n",
       "      <td>11/12/2009</td>\n",
       "      <td>NaN</td>\n",
       "      <td>5000</td>\n",
       "      <td>222467</td>\n",
       "      <td>2009-12-01</td>\n",
       "      <td>6.0</td>\n",
       "      <td>2009-12-11</td>\n",
       "    </tr>\n",
       "    <tr>\n",
       "      <th>1</th>\n",
       "      <td>2009</td>\n",
       "      <td>12</td>\n",
       "      <td>ACIR GURGACZ</td>\n",
       "      <td>Divulgação da atividade parlamentar</td>\n",
       "      <td>02.831.112/0002-09</td>\n",
       "      <td>INTERCOM INTERMEDIAÇÕES E COMUNICAÇÃO INTEGRAD...</td>\n",
       "      <td>000330</td>\n",
       "      <td>09/12/2009</td>\n",
       "      <td>NaN</td>\n",
       "      <td>12620</td>\n",
       "      <td>222466</td>\n",
       "      <td>2009-12-01</td>\n",
       "      <td>6.0</td>\n",
       "      <td>2009-12-09</td>\n",
       "    </tr>\n",
       "    <tr>\n",
       "      <th>7</th>\n",
       "      <td>2009</td>\n",
       "      <td>4</td>\n",
       "      <td>ADELMIR SANTANA</td>\n",
       "      <td>Locomoção, hospedagem, alimentação, combustíve...</td>\n",
       "      <td>00.306.597/0016-83</td>\n",
       "      <td>Cascol combustíveis para veículos Ltda</td>\n",
       "      <td>106471</td>\n",
       "      <td>12/04/2009</td>\n",
       "      <td>NaN</td>\n",
       "      <td>179,01</td>\n",
       "      <td>165740</td>\n",
       "      <td>2009-04-01</td>\n",
       "      <td>6.0</td>\n",
       "      <td>2009-04-12</td>\n",
       "    </tr>\n",
       "    <tr>\n",
       "      <th>8</th>\n",
       "      <td>2009</td>\n",
       "      <td>4</td>\n",
       "      <td>ADELMIR SANTANA</td>\n",
       "      <td>Locomoção, hospedagem, alimentação, combustíve...</td>\n",
       "      <td>00.358.192/0001-02</td>\n",
       "      <td>Ribeiro e Pereira Ltda</td>\n",
       "      <td>77472</td>\n",
       "      <td>04/04/2009</td>\n",
       "      <td>NaN</td>\n",
       "      <td>30</td>\n",
       "      <td>165739</td>\n",
       "      <td>2009-04-01</td>\n",
       "      <td>6.0</td>\n",
       "      <td>2009-04-04</td>\n",
       "    </tr>\n",
       "    <tr>\n",
       "      <th>9</th>\n",
       "      <td>2009</td>\n",
       "      <td>4</td>\n",
       "      <td>ADELMIR SANTANA</td>\n",
       "      <td>Locomoção, hospedagem, alimentação, combustíve...</td>\n",
       "      <td>06.098.111/0001-69</td>\n",
       "      <td>Tudo de Bom Comércio de alimentos Ltda</td>\n",
       "      <td>10169</td>\n",
       "      <td>14/04/2009</td>\n",
       "      <td>NaN</td>\n",
       "      <td>215,8</td>\n",
       "      <td>165741</td>\n",
       "      <td>2009-04-01</td>\n",
       "      <td>6.0</td>\n",
       "      <td>2009-04-14</td>\n",
       "    </tr>\n",
       "  </tbody>\n",
       "</table>\n",
       "</div>"
      ],
      "text/plain": [
       "    ANO  MES          SENADOR  \\\n",
       "0  2009   12     ACIR GURGACZ   \n",
       "1  2009   12     ACIR GURGACZ   \n",
       "7  2009    4  ADELMIR SANTANA   \n",
       "8  2009    4  ADELMIR SANTANA   \n",
       "9  2009    4  ADELMIR SANTANA   \n",
       "\n",
       "                                        TIPO_DESPESA            CNPJ_CPF  \\\n",
       "0  Aluguel de imóveis para escritório político, c...      004.948.028-63   \n",
       "1                Divulgação da atividade parlamentar  02.831.112/0002-09   \n",
       "7  Locomoção, hospedagem, alimentação, combustíve...  00.306.597/0016-83   \n",
       "8  Locomoção, hospedagem, alimentação, combustíve...  00.358.192/0001-02   \n",
       "9  Locomoção, hospedagem, alimentação, combustíve...  06.098.111/0001-69   \n",
       "\n",
       "                                          FORNECEDOR DOCUMENTO        DATA  \\\n",
       "0                      GILBERTO PISELO DO NASCIMENTO       NaN  11/12/2009   \n",
       "1  INTERCOM INTERMEDIAÇÕES E COMUNICAÇÃO INTEGRAD...    000330  09/12/2009   \n",
       "7             Cascol combustíveis para veículos Ltda    106471  12/04/2009   \n",
       "8                             Ribeiro e Pereira Ltda     77472  04/04/2009   \n",
       "9             Tudo de Bom Comércio de alimentos Ltda     10169  14/04/2009   \n",
       "\n",
       "  DETALHAMENTO VALOR_REEMBOLSADO COD_DOCUMENTO    ANO_MES  \\\n",
       "0          NaN              5000        222467 2009-12-01   \n",
       "1          NaN             12620        222466 2009-12-01   \n",
       "7          NaN            179,01        165740 2009-04-01   \n",
       "8          NaN                30        165739 2009-04-01   \n",
       "9          NaN             215,8        165741 2009-04-01   \n",
       "\n",
       "   NUM_LETRAS_COD_DOCUMENTO     DATA_2  \n",
       "0                       6.0 2009-12-11  \n",
       "1                       6.0 2009-12-09  \n",
       "7                       6.0 2009-04-12  \n",
       "8                       6.0 2009-04-04  \n",
       "9                       6.0 2009-04-14  "
      ]
     },
     "execution_count": 37,
     "metadata": {},
     "output_type": "execute_result"
    }
   ],
   "source": [
    "dt_igual.head()"
   ]
  },
  {
   "cell_type": "markdown",
   "metadata": {},
   "source": [
    "##### Campo DETALHAMENTO"
   ]
  },
  {
   "cell_type": "code",
   "execution_count": 38,
   "metadata": {},
   "outputs": [
    {
     "data": {
      "text/plain": [
       "array([nan])"
      ]
     },
     "execution_count": 38,
     "metadata": {},
     "output_type": "execute_result"
    }
   ],
   "source": [
    "# DETALHAMENTO\n",
    "df_ceaps_2008['DETALHAMENTO'].unique()"
   ]
  },
  {
   "cell_type": "code",
   "execution_count": null,
   "metadata": {},
   "outputs": [],
   "source": []
  },
  {
   "cell_type": "markdown",
   "metadata": {},
   "source": [
    "Identificando o encoding para conseguir ler o arquivo de forma certa"
   ]
  },
  {
   "cell_type": "code",
   "execution_count": 39,
   "metadata": {},
   "outputs": [],
   "source": [
    "# # Tente ler o arquivo CSV usando diferentes codificações até encontrar a correta\n",
    "# possible_encodings = ['utf-8', 'latin1', 'ISO-8859-1', 'cp1252']\n",
    "\n",
    "# for encoding in possible_encodings:\n",
    "#     try:\n",
    "#         df_ceaps_2022 = pd.read_csv('./datasets/despesa_ceaps_2008.csv', encoding=encoding, sep=';')\n",
    "#         print(f\"Arquivo lido com sucesso usando a codificação: {encoding}\")\n",
    "#         break\n",
    "#     except UnicodeDecodeError:\n",
    "#         print(f\"Erro ao ler o arquivo com a codificação: {encoding}\")\n",
    "\n",
    "# # Agora 'df' contém os dados do seu arquivo CSV em um DataFrame do pandas\n"
   ]
  },
  {
   "cell_type": "code",
   "execution_count": null,
   "metadata": {},
   "outputs": [],
   "source": []
  }
 ],
 "metadata": {
  "kernelspec": {
   "display_name": ".venv",
   "language": "python",
   "name": "python3"
  },
  "language_info": {
   "codemirror_mode": {
    "name": "ipython",
    "version": 3
   },
   "file_extension": ".py",
   "mimetype": "text/x-python",
   "name": "python",
   "nbconvert_exporter": "python",
   "pygments_lexer": "ipython3",
   "version": "3.11.7"
  }
 },
 "nbformat": 4,
 "nbformat_minor": 2
}
