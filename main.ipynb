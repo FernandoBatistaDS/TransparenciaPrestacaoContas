{
 "cells": [
  {
   "cell_type": "markdown",
   "metadata": {},
   "source": [
    "O nosso projeto é sobre os dados que tem no portal do CEAPS (Cota para Exercício da Atividade Parlamentar dos Senadores)\n",
    "\n",
    "Os topicos:\n",
    "\n",
    "-   0.0 - Vamos analisar os dados de forma mais criterioas\n",
    "-   1.0 - "
   ]
  },
  {
   "cell_type": "markdown",
   "metadata": {},
   "source": [
    "# Imports"
   ]
  },
  {
   "cell_type": "code",
   "execution_count": 557,
   "metadata": {},
   "outputs": [],
   "source": [
    "import  pandas  as  pd\n",
    "import  numpy   as  np"
   ]
  },
  {
   "cell_type": "markdown",
   "metadata": {},
   "source": [
    "# 0.0 DataSets, analisando os dados"
   ]
  },
  {
   "cell_type": "markdown",
   "metadata": {},
   "source": [
    "##### Importando todos os dados de 2008 até 2022"
   ]
  },
  {
   "cell_type": "code",
   "execution_count": 558,
   "metadata": {},
   "outputs": [],
   "source": [
    "df_ceaps_2008 = pd.read_csv('./datasets/despesa_ceaps_2008.csv', encoding='ISO-8859-1', sep=';', skiprows=1, dtype={'COD_DOCUMENTO': str})\n",
    "df_ceaps_2009 = pd.read_csv('./datasets/despesa_ceaps_2009.csv', encoding='ISO-8859-1', sep=';', skiprows=1, dtype={'COD_DOCUMENTO': str})\n",
    "df_ceaps_2010 = pd.read_csv('./datasets/despesa_ceaps_2010.csv', encoding='ISO-8859-1', sep=';', skiprows=1, dtype={'COD_DOCUMENTO': str})\n",
    "df_ceaps_2011 = pd.read_csv('./datasets/despesa_ceaps_2011.csv', encoding='ISO-8859-1', sep=';', skiprows=1, dtype={'COD_DOCUMENTO': str})\n",
    "df_ceaps_2012 = pd.read_csv('./datasets/despesa_ceaps_2012.csv', encoding='ISO-8859-1', sep=';', skiprows=1, dtype={'COD_DOCUMENTO': str})\n",
    "df_ceaps_2013 = pd.read_csv('./datasets/despesa_ceaps_2013.csv', encoding='ISO-8859-1', sep=';', skiprows=1, dtype={'COD_DOCUMENTO': str})\n",
    "df_ceaps_2014 = pd.read_csv('./datasets/despesa_ceaps_2014.csv', encoding='ISO-8859-1', sep=';', skiprows=1, dtype={'COD_DOCUMENTO': str})\n",
    "df_ceaps_2015 = pd.read_csv('./datasets/despesa_ceaps_2015.csv', encoding='ISO-8859-1', sep=';', skiprows=1, dtype={'COD_DOCUMENTO': str})\n",
    "df_ceaps_2016 = pd.read_csv('./datasets/despesa_ceaps_2016.csv', encoding='ISO-8859-1', sep=';', skiprows=1, dtype={'COD_DOCUMENTO': str})\n",
    "df_ceaps_2017 = pd.read_csv('./datasets/despesa_ceaps_2017.csv', encoding='ISO-8859-1', sep=';', skiprows=1, dtype={'COD_DOCUMENTO': str})\n",
    "df_ceaps_2018 = pd.read_csv('./datasets/despesa_ceaps_2018.csv', encoding='ISO-8859-1', sep=';', skiprows=1, dtype={'COD_DOCUMENTO': str})\n",
    "df_ceaps_2019 = pd.read_csv('./datasets/despesa_ceaps_2019.csv', encoding='ISO-8859-1', sep=';', skiprows=1, dtype={'COD_DOCUMENTO': str})\n",
    "df_ceaps_2020 = pd.read_csv('./datasets/despesa_ceaps_2020.csv', encoding='ISO-8859-1', sep=';', skiprows=1, dtype={'COD_DOCUMENTO': str})\n",
    "df_ceaps_2021 = pd.read_csv('./datasets/despesa_ceaps_2021.csv', encoding='ISO-8859-1', sep=';', skiprows=1, dtype={'COD_DOCUMENTO': str})\n",
    "df_ceaps_2022 = pd.read_csv('./datasets/despesa_ceaps_2022.csv', encoding='ISO-8859-1', sep=';', skiprows=1, dtype={'COD_DOCUMENTO': str})"
   ]
  },
  {
   "cell_type": "markdown",
   "metadata": {},
   "source": [
    "##### Concatenando todos os datasets para facilitar a analise, as colunas são do mesmo tamanho e tipo "
   ]
  },
  {
   "cell_type": "code",
   "execution_count": 559,
   "metadata": {},
   "outputs": [],
   "source": [
    "df = pd.concat([\n",
    "    df_ceaps_2008,\n",
    "    df_ceaps_2009,\n",
    "    df_ceaps_2010,\n",
    "    df_ceaps_2011,\n",
    "    df_ceaps_2012,\n",
    "    df_ceaps_2013,\n",
    "    df_ceaps_2014,\n",
    "    df_ceaps_2015,\n",
    "    df_ceaps_2016,\n",
    "    df_ceaps_2017,\n",
    "    df_ceaps_2018,\n",
    "    df_ceaps_2019,\n",
    "    df_ceaps_2020,\n",
    "    df_ceaps_2021,\n",
    "    df_ceaps_2022\n",
    "], axis=0)\n"
   ]
  },
  {
   "cell_type": "markdown",
   "metadata": {},
   "source": [
    "##### Quantos dados temos?\n",
    "\n",
    "R: Temos 317963 registros"
   ]
  },
  {
   "cell_type": "code",
   "execution_count": 560,
   "metadata": {},
   "outputs": [
    {
     "data": {
      "text/plain": [
       "317963"
      ]
     },
     "execution_count": 560,
     "metadata": {},
     "output_type": "execute_result"
    }
   ],
   "source": [
    "len(df)"
   ]
  },
  {
   "cell_type": "code",
   "execution_count": 561,
   "metadata": {},
   "outputs": [
    {
     "name": "stdout",
     "output_type": "stream",
     "text": [
      "<class 'pandas.core.frame.DataFrame'>\n",
      "Index: 317963 entries, 0 to 16781\n",
      "Data columns (total 11 columns):\n",
      " #   Column             Non-Null Count   Dtype \n",
      "---  ------             --------------   ----- \n",
      " 0   ANO                317963 non-null  int64 \n",
      " 1   MES                317963 non-null  int64 \n",
      " 2   SENADOR            317963 non-null  object\n",
      " 3   TIPO_DESPESA       317963 non-null  object\n",
      " 4   CNPJ_CPF           314819 non-null  object\n",
      " 5   FORNECEDOR         314819 non-null  object\n",
      " 6   DOCUMENTO          293153 non-null  object\n",
      " 7   DATA               314819 non-null  object\n",
      " 8   DETALHAMENTO       180631 non-null  object\n",
      " 9   VALOR_REEMBOLSADO  317963 non-null  object\n",
      " 10  COD_DOCUMENTO      317961 non-null  object\n",
      "dtypes: int64(2), object(9)\n",
      "memory usage: 29.1+ MB\n"
     ]
    }
   ],
   "source": [
    "df.info()"
   ]
  },
  {
   "cell_type": "markdown",
   "metadata": {},
   "source": [
    "### Entendendo os campos"
   ]
  },
  {
   "cell_type": "markdown",
   "metadata": {},
   "source": [
    "##### Novos campos"
   ]
  },
  {
   "cell_type": "markdown",
   "metadata": {},
   "source": [
    "['ANO_MES'] concatenando os valores ANO + MES"
   ]
  },
  {
   "cell_type": "code",
   "execution_count": 562,
   "metadata": {},
   "outputs": [],
   "source": [
    "df['ANO_MES'] = pd.to_datetime(df['ANO'].astype(str) + '-' + df['MES'].astype(str), format='%Y-%m')"
   ]
  },
  {
   "cell_type": "markdown",
   "metadata": {},
   "source": [
    "##### Insert nos campos"
   ]
  },
  {
   "cell_type": "code",
   "execution_count": 563,
   "metadata": {},
   "outputs": [],
   "source": [
    "# df.loc[df['ANO_MES'] < '2009-04-01', ['DOCUMENTO']] = 'NÃO TINHA CADASTRO'"
   ]
  },
  {
   "cell_type": "markdown",
   "metadata": {},
   "source": [
    "##### Analisar os campos"
   ]
  },
  {
   "cell_type": "code",
   "execution_count": 564,
   "metadata": {},
   "outputs": [
    {
     "data": {
      "text/html": [
       "<div>\n",
       "<style scoped>\n",
       "    .dataframe tbody tr th:only-of-type {\n",
       "        vertical-align: middle;\n",
       "    }\n",
       "\n",
       "    .dataframe tbody tr th {\n",
       "        vertical-align: top;\n",
       "    }\n",
       "\n",
       "    .dataframe thead th {\n",
       "        text-align: right;\n",
       "    }\n",
       "</style>\n",
       "<table border=\"1\" class=\"dataframe\">\n",
       "  <thead>\n",
       "    <tr style=\"text-align: right;\">\n",
       "      <th></th>\n",
       "      <th>ANO</th>\n",
       "      <th>MES</th>\n",
       "      <th>SENADOR</th>\n",
       "      <th>TIPO_DESPESA</th>\n",
       "      <th>CNPJ_CPF</th>\n",
       "      <th>FORNECEDOR</th>\n",
       "      <th>DOCUMENTO</th>\n",
       "      <th>DATA</th>\n",
       "      <th>DETALHAMENTO</th>\n",
       "      <th>VALOR_REEMBOLSADO</th>\n",
       "      <th>COD_DOCUMENTO</th>\n",
       "      <th>ANO_MES</th>\n",
       "    </tr>\n",
       "  </thead>\n",
       "  <tbody>\n",
       "    <tr>\n",
       "      <th>0</th>\n",
       "      <td>2008</td>\n",
       "      <td>9</td>\n",
       "      <td>ADA MELLO</td>\n",
       "      <td>Contratação de consultorias, assessorias, pesq...</td>\n",
       "      <td>NaN</td>\n",
       "      <td>NaN</td>\n",
       "      <td>NaN</td>\n",
       "      <td>NaN</td>\n",
       "      <td>NaN</td>\n",
       "      <td>12351,52</td>\n",
       "      <td>2008090814004</td>\n",
       "      <td>2008-09-01</td>\n",
       "    </tr>\n",
       "    <tr>\n",
       "      <th>1</th>\n",
       "      <td>2008</td>\n",
       "      <td>9</td>\n",
       "      <td>ADA MELLO</td>\n",
       "      <td>Locomoção, hospedagem, alimentação, combustíve...</td>\n",
       "      <td>NaN</td>\n",
       "      <td>NaN</td>\n",
       "      <td>NaN</td>\n",
       "      <td>NaN</td>\n",
       "      <td>NaN</td>\n",
       "      <td>386,6</td>\n",
       "      <td>2008090814003</td>\n",
       "      <td>2008-09-01</td>\n",
       "    </tr>\n",
       "    <tr>\n",
       "      <th>2</th>\n",
       "      <td>2008</td>\n",
       "      <td>10</td>\n",
       "      <td>ADA MELLO</td>\n",
       "      <td>Contratação de consultorias, assessorias, pesq...</td>\n",
       "      <td>NaN</td>\n",
       "      <td>NaN</td>\n",
       "      <td>NaN</td>\n",
       "      <td>NaN</td>\n",
       "      <td>NaN</td>\n",
       "      <td>12351,52</td>\n",
       "      <td>2008100814004</td>\n",
       "      <td>2008-10-01</td>\n",
       "    </tr>\n",
       "    <tr>\n",
       "      <th>3</th>\n",
       "      <td>2008</td>\n",
       "      <td>10</td>\n",
       "      <td>ADA MELLO</td>\n",
       "      <td>Locomoção, hospedagem, alimentação, combustíve...</td>\n",
       "      <td>NaN</td>\n",
       "      <td>NaN</td>\n",
       "      <td>NaN</td>\n",
       "      <td>NaN</td>\n",
       "      <td>NaN</td>\n",
       "      <td>2610,68</td>\n",
       "      <td>2008100814003</td>\n",
       "      <td>2008-10-01</td>\n",
       "    </tr>\n",
       "    <tr>\n",
       "      <th>4</th>\n",
       "      <td>2008</td>\n",
       "      <td>11</td>\n",
       "      <td>ADA MELLO</td>\n",
       "      <td>Contratação de consultorias, assessorias, pesq...</td>\n",
       "      <td>NaN</td>\n",
       "      <td>NaN</td>\n",
       "      <td>NaN</td>\n",
       "      <td>NaN</td>\n",
       "      <td>NaN</td>\n",
       "      <td>12351,52</td>\n",
       "      <td>2008110814004</td>\n",
       "      <td>2008-11-01</td>\n",
       "    </tr>\n",
       "  </tbody>\n",
       "</table>\n",
       "</div>"
      ],
      "text/plain": [
       "    ANO  MES    SENADOR                                       TIPO_DESPESA  \\\n",
       "0  2008    9  ADA MELLO  Contratação de consultorias, assessorias, pesq...   \n",
       "1  2008    9  ADA MELLO  Locomoção, hospedagem, alimentação, combustíve...   \n",
       "2  2008   10  ADA MELLO  Contratação de consultorias, assessorias, pesq...   \n",
       "3  2008   10  ADA MELLO  Locomoção, hospedagem, alimentação, combustíve...   \n",
       "4  2008   11  ADA MELLO  Contratação de consultorias, assessorias, pesq...   \n",
       "\n",
       "  CNPJ_CPF FORNECEDOR DOCUMENTO DATA DETALHAMENTO VALOR_REEMBOLSADO  \\\n",
       "0      NaN        NaN       NaN  NaN          NaN          12351,52   \n",
       "1      NaN        NaN       NaN  NaN          NaN             386,6   \n",
       "2      NaN        NaN       NaN  NaN          NaN          12351,52   \n",
       "3      NaN        NaN       NaN  NaN          NaN           2610,68   \n",
       "4      NaN        NaN       NaN  NaN          NaN          12351,52   \n",
       "\n",
       "   COD_DOCUMENTO    ANO_MES  \n",
       "0  2008090814004 2008-09-01  \n",
       "1  2008090814003 2008-09-01  \n",
       "2  2008100814004 2008-10-01  \n",
       "3  2008100814003 2008-10-01  \n",
       "4  2008110814004 2008-11-01  "
      ]
     },
     "execution_count": 564,
     "metadata": {},
     "output_type": "execute_result"
    }
   ],
   "source": [
    "df.head()"
   ]
  },
  {
   "cell_type": "markdown",
   "metadata": {},
   "source": [
    "<span style=\"color:red\">A principio, não temos dados no campo CNPJ_CPF, FORNECEDORM DOCUMENTO, DATA e DETALHAMENTO</span>\n",
    "\n",
    "- Verificamos e tem valores, não são todos nulos"
   ]
  },
  {
   "cell_type": "code",
   "execution_count": 565,
   "metadata": {},
   "outputs": [
    {
     "data": {
      "text/plain": [
       "Index(['ANO', 'MES', 'SENADOR', 'TIPO_DESPESA', 'CNPJ_CPF', 'FORNECEDOR',\n",
       "       'DOCUMENTO', 'DATA', 'DETALHAMENTO', 'VALOR_REEMBOLSADO',\n",
       "       'COD_DOCUMENTO', 'ANO_MES'],\n",
       "      dtype='object')"
      ]
     },
     "execution_count": 565,
     "metadata": {},
     "output_type": "execute_result"
    }
   ],
   "source": [
    "df.columns"
   ]
  },
  {
   "cell_type": "markdown",
   "metadata": {},
   "source": [
    "##### Vamos analisar melhor o campo CNPJ_CPF\n",
    "\n",
    "- 3144 dos dados estão com os valores nulos\n",
    "- Valores nulos de 2008-02 até 2009-03\n",
    "- Os valores começam a ser preenchidos em 2009-04\n",
    "\n",
    "<span style=\"color:green\">Não vamos deletar o campo! Acredito que tenham colocado esse campo depois da data 2009-03.</span>\n",
    "<br>\n",
    "<span style=\"color:green\">Preenche com \"00000000000\"</span>"
   ]
  },
  {
   "cell_type": "code",
   "execution_count": 566,
   "metadata": {},
   "outputs": [
    {
     "data": {
      "text/plain": [
       "array([nan, '004.948.028-63', '02.831.112/0002-09', ...,\n",
       "       '05.044.096/0002-94', '41.365.622/0001-09', '34.307.872/0001-19'],\n",
       "      dtype=object)"
      ]
     },
     "execution_count": 566,
     "metadata": {},
     "output_type": "execute_result"
    }
   ],
   "source": [
    "# CNPJ_CPF\n",
    "df['CNPJ_CPF'].unique()"
   ]
  },
  {
   "cell_type": "code",
   "execution_count": 567,
   "metadata": {},
   "outputs": [
    {
     "data": {
      "text/plain": [
       "(Timestamp('2008-02-01 00:00:00'), Timestamp('2009-03-01 00:00:00'))"
      ]
     },
     "execution_count": 567,
     "metadata": {},
     "output_type": "execute_result"
    }
   ],
   "source": [
    "df[df['CNPJ_CPF'].isnull()]['ANO_MES'].min(), df[df['CNPJ_CPF'].isnull()]['ANO_MES'].max()"
   ]
  },
  {
   "cell_type": "code",
   "execution_count": 568,
   "metadata": {},
   "outputs": [
    {
     "data": {
      "text/plain": [
       "(Timestamp('2009-04-01 00:00:00'), Timestamp('2022-12-01 00:00:00'))"
      ]
     },
     "execution_count": 568,
     "metadata": {},
     "output_type": "execute_result"
    }
   ],
   "source": [
    "df[df['CNPJ_CPF'].notna()]['ANO_MES'].min(), df[df['CNPJ_CPF'].notna()]['ANO_MES'].max()"
   ]
  },
  {
   "cell_type": "markdown",
   "metadata": {},
   "source": [
    "##### Campo FORNECEDOR\n",
    "\n",
    "- 3144 dos dados estão com os valores nulos\n",
    "- Valores nulos de 2008-02 até 2009-03\n",
    "- Os valores começam a ser preenchidos em 2009-04\n",
    "\n",
    "<span style=\"color:green\">Não vamos deletar o campo! Acredito que tenham colocado esse campo depois da data 2009-03.</span>\n",
    "<br>\n",
    "<span style=\"color:green\">Preenche com \"FORNECEDOR NÃO CADASTRADO\"</span>"
   ]
  },
  {
   "cell_type": "code",
   "execution_count": 569,
   "metadata": {},
   "outputs": [
    {
     "data": {
      "text/plain": [
       "array([nan, 'GILBERTO PISELO DO NASCIMENTO',\n",
       "       'INTERCOM INTERMEDIAÇÕES E COMUNICAÇÃO INTEGRADA LTDA', ...,\n",
       "       'RCM COMUNICAÇÃO E SERVIÇOS LTDA.',\n",
       "       'AM & AP COMÉRCIO DE ALIMENTOS LTDA.-ME',\n",
       "       'J M F COMÉRCIO DE COMBUSTIVEIS LTDA.'], dtype=object)"
      ]
     },
     "execution_count": 569,
     "metadata": {},
     "output_type": "execute_result"
    }
   ],
   "source": [
    "# FORNECEDOR\n",
    "df['FORNECEDOR'].unique()"
   ]
  },
  {
   "cell_type": "code",
   "execution_count": 570,
   "metadata": {},
   "outputs": [
    {
     "data": {
      "text/plain": [
       "3144"
      ]
     },
     "execution_count": 570,
     "metadata": {},
     "output_type": "execute_result"
    }
   ],
   "source": [
    "len(df[df['FORNECEDOR'].isna()])"
   ]
  },
  {
   "cell_type": "code",
   "execution_count": 571,
   "metadata": {},
   "outputs": [
    {
     "data": {
      "text/plain": [
       "(Timestamp('2008-02-01 00:00:00'), Timestamp('2009-03-01 00:00:00'))"
      ]
     },
     "execution_count": 571,
     "metadata": {},
     "output_type": "execute_result"
    }
   ],
   "source": [
    "df[df['FORNECEDOR'].isnull()]['ANO_MES'].min(), df[df['FORNECEDOR'].isnull()]['ANO_MES'].max()"
   ]
  },
  {
   "cell_type": "code",
   "execution_count": 572,
   "metadata": {},
   "outputs": [
    {
     "data": {
      "text/plain": [
       "(Timestamp('2009-04-01 00:00:00'), Timestamp('2022-12-01 00:00:00'))"
      ]
     },
     "execution_count": 572,
     "metadata": {},
     "output_type": "execute_result"
    }
   ],
   "source": [
    "df[df['FORNECEDOR'].notna()]['ANO_MES'].min(), df[df['FORNECEDOR'].notna()]['ANO_MES'].max()"
   ]
  },
  {
   "cell_type": "markdown",
   "metadata": {},
   "source": [
    "##### Campo DOCUMENTO\n",
    "\n",
    "- 24810 dos dados estão com os valores nulos\n",
    "- Valores nulos de 2008-02 até 2009-03, <span style=\"color: yellow\">mas ainda tem valores nulos depois dessa data</span>\n",
    "- Valores diferentes de 6 e 7 caracteres estão nulos, <span style=\"color: yellow\"> tem valores nulos com 6 e 7 caracteres</span>\n",
    "- DOCUMENTO NULO com NUM_LETRAS_COD_DOCUMENTO > 7 o DETALHAMENTO é tudo NULL, <span style=\"color: yellow\"> tem valores nulos com 6 e 7 caracteres</span>\n",
    "\n",
    "\n",
    "<span style=\"color:green\">Não vamos deletar o campo! Acredito que tenham colocado esse campo depois da data 2009-03.</span>\n",
    "<br>\n",
    "<span style=\"color:green\">Preenche com \"FORNECEDOR NÃO CADASTRADO\"</span>"
   ]
  },
  {
   "cell_type": "code",
   "execution_count": 573,
   "metadata": {},
   "outputs": [
    {
     "data": {
      "text/plain": [
       "array([nan, '000330', '106471', ..., 'THPKVQ', 'QNN9HX', 'WMQWBX'],\n",
       "      dtype=object)"
      ]
     },
     "execution_count": 573,
     "metadata": {},
     "output_type": "execute_result"
    }
   ],
   "source": [
    "# DOCUMENTO\n",
    "df['DOCUMENTO'].unique()"
   ]
  },
  {
   "cell_type": "code",
   "execution_count": 574,
   "metadata": {},
   "outputs": [
    {
     "data": {
      "text/plain": [
       "(24810, 293153)"
      ]
     },
     "execution_count": 574,
     "metadata": {},
     "output_type": "execute_result"
    }
   ],
   "source": [
    "len(df[df['DOCUMENTO'].isna()]), len(df[df['DOCUMENTO'].notna()])"
   ]
  },
  {
   "cell_type": "code",
   "execution_count": 575,
   "metadata": {},
   "outputs": [
    {
     "data": {
      "text/plain": [
       "(Timestamp('2008-02-01 00:00:00'), Timestamp('2022-12-01 00:00:00'))"
      ]
     },
     "execution_count": 575,
     "metadata": {},
     "output_type": "execute_result"
    }
   ],
   "source": [
    "df[df['DOCUMENTO'].isnull()]['ANO_MES'].min(), df[df['DOCUMENTO'].isnull()]['ANO_MES'].max()"
   ]
  },
  {
   "cell_type": "code",
   "execution_count": 576,
   "metadata": {},
   "outputs": [
    {
     "data": {
      "text/plain": [
       "(Timestamp('2009-04-01 00:00:00'), Timestamp('2022-12-01 00:00:00'))"
      ]
     },
     "execution_count": 576,
     "metadata": {},
     "output_type": "execute_result"
    }
   ],
   "source": [
    "df[df['DOCUMENTO'].notna()]['ANO_MES'].min(), df[df['DOCUMENTO'].notna()]['ANO_MES'].max()"
   ]
  },
  {
   "cell_type": "code",
   "execution_count": 577,
   "metadata": {},
   "outputs": [],
   "source": [
    "#################################################################\n",
    "#\n",
    "#\n",
    "# Vamos analisar quantidades de numero no COD_DOCUMENTO\n",
    "# Aparentemente os valores diferentes de 6 e 7 caracteres não tem DOCUMENTOS\n",
    "#\n",
    "#################################################################\n",
    "\n",
    "df['NUM_LETRAS_COD_DOCUMENTO'] = df['COD_DOCUMENTO'].str.len()"
   ]
  },
  {
   "cell_type": "code",
   "execution_count": 578,
   "metadata": {},
   "outputs": [
    {
     "name": "stdout",
     "output_type": "stream",
     "text": [
      "Valores não NULOS, min e max: 6.0 e 7.0\n"
     ]
    }
   ],
   "source": [
    "print(\"Valores não NULOS, min e max: {} e {}\".format(df[(df['DOCUMENTO'].notna())]['NUM_LETRAS_COD_DOCUMENTO'].min(), df[(df['DOCUMENTO'].notna())]['NUM_LETRAS_COD_DOCUMENTO'].max()))"
   ]
  },
  {
   "cell_type": "code",
   "execution_count": 579,
   "metadata": {},
   "outputs": [
    {
     "name": "stdout",
     "output_type": "stream",
     "text": [
      "Valores NULOS, min e max: 6.0 e 13.0\n"
     ]
    }
   ],
   "source": [
    "print(\"Valores NULOS, min e max: {} e {}\".format(df[(df['DOCUMENTO'].isnull())]['NUM_LETRAS_COD_DOCUMENTO'].min(), df[(df['DOCUMENTO'].isnull())]['NUM_LETRAS_COD_DOCUMENTO'].max()))"
   ]
  },
  {
   "cell_type": "code",
   "execution_count": 580,
   "metadata": {},
   "outputs": [
    {
     "data": {
      "text/plain": [
       "array([nan, 'Referente a multa de remarcação.',\n",
       "       'Senadpr Armando Monteiro Referente a multa de remarcação.', ...,\n",
       "       'DESPESA DE ALUGUEL DO ESCRITÓRIO DE APOIO DO SENADOR RODRIGO CUNHA - NOVEMBRO 2022',\n",
       "       'DESPESA DE ALUGUEL DO ESCRITÓRIO DE APOIO DO SENADOR RODRIGO CUNHA EM MACEIÓ DEZEMBRO 2022',\n",
       "       'Pagamento integral de despesas com IPTU referente ao ano de 2022, do Escritório de Representação da senadora Simone Tebet em Campo Grande/MS.'],\n",
       "      dtype=object)"
      ]
     },
     "execution_count": 580,
     "metadata": {},
     "output_type": "execute_result"
    }
   ],
   "source": [
    "df[(df['DOCUMENTO'].isnull()) & (df['NUM_LETRAS_COD_DOCUMENTO'] < 8)]['DETALHAMENTO'].unique()"
   ]
  },
  {
   "cell_type": "code",
   "execution_count": 581,
   "metadata": {},
   "outputs": [
    {
     "data": {
      "text/html": [
       "<div>\n",
       "<style scoped>\n",
       "    .dataframe tbody tr th:only-of-type {\n",
       "        vertical-align: middle;\n",
       "    }\n",
       "\n",
       "    .dataframe tbody tr th {\n",
       "        vertical-align: top;\n",
       "    }\n",
       "\n",
       "    .dataframe thead th {\n",
       "        text-align: right;\n",
       "    }\n",
       "</style>\n",
       "<table border=\"1\" class=\"dataframe\">\n",
       "  <thead>\n",
       "    <tr style=\"text-align: right;\">\n",
       "      <th></th>\n",
       "      <th>ANO</th>\n",
       "      <th>MES</th>\n",
       "      <th>SENADOR</th>\n",
       "      <th>TIPO_DESPESA</th>\n",
       "      <th>CNPJ_CPF</th>\n",
       "      <th>FORNECEDOR</th>\n",
       "      <th>DOCUMENTO</th>\n",
       "      <th>DATA</th>\n",
       "      <th>DETALHAMENTO</th>\n",
       "      <th>VALOR_REEMBOLSADO</th>\n",
       "      <th>COD_DOCUMENTO</th>\n",
       "      <th>ANO_MES</th>\n",
       "      <th>NUM_LETRAS_COD_DOCUMENTO</th>\n",
       "    </tr>\n",
       "  </thead>\n",
       "  <tbody>\n",
       "    <tr>\n",
       "      <th>0</th>\n",
       "      <td>2008</td>\n",
       "      <td>9</td>\n",
       "      <td>ADA MELLO</td>\n",
       "      <td>Contratação de consultorias, assessorias, pesq...</td>\n",
       "      <td>NaN</td>\n",
       "      <td>NaN</td>\n",
       "      <td>NaN</td>\n",
       "      <td>NaN</td>\n",
       "      <td>NaN</td>\n",
       "      <td>12351,52</td>\n",
       "      <td>2008090814004</td>\n",
       "      <td>2008-09-01</td>\n",
       "      <td>13.0</td>\n",
       "    </tr>\n",
       "    <tr>\n",
       "      <th>1</th>\n",
       "      <td>2008</td>\n",
       "      <td>9</td>\n",
       "      <td>ADA MELLO</td>\n",
       "      <td>Locomoção, hospedagem, alimentação, combustíve...</td>\n",
       "      <td>NaN</td>\n",
       "      <td>NaN</td>\n",
       "      <td>NaN</td>\n",
       "      <td>NaN</td>\n",
       "      <td>NaN</td>\n",
       "      <td>386,6</td>\n",
       "      <td>2008090814003</td>\n",
       "      <td>2008-09-01</td>\n",
       "      <td>13.0</td>\n",
       "    </tr>\n",
       "    <tr>\n",
       "      <th>2</th>\n",
       "      <td>2008</td>\n",
       "      <td>10</td>\n",
       "      <td>ADA MELLO</td>\n",
       "      <td>Contratação de consultorias, assessorias, pesq...</td>\n",
       "      <td>NaN</td>\n",
       "      <td>NaN</td>\n",
       "      <td>NaN</td>\n",
       "      <td>NaN</td>\n",
       "      <td>NaN</td>\n",
       "      <td>12351,52</td>\n",
       "      <td>2008100814004</td>\n",
       "      <td>2008-10-01</td>\n",
       "      <td>13.0</td>\n",
       "    </tr>\n",
       "    <tr>\n",
       "      <th>3</th>\n",
       "      <td>2008</td>\n",
       "      <td>10</td>\n",
       "      <td>ADA MELLO</td>\n",
       "      <td>Locomoção, hospedagem, alimentação, combustíve...</td>\n",
       "      <td>NaN</td>\n",
       "      <td>NaN</td>\n",
       "      <td>NaN</td>\n",
       "      <td>NaN</td>\n",
       "      <td>NaN</td>\n",
       "      <td>2610,68</td>\n",
       "      <td>2008100814003</td>\n",
       "      <td>2008-10-01</td>\n",
       "      <td>13.0</td>\n",
       "    </tr>\n",
       "    <tr>\n",
       "      <th>4</th>\n",
       "      <td>2008</td>\n",
       "      <td>11</td>\n",
       "      <td>ADA MELLO</td>\n",
       "      <td>Contratação de consultorias, assessorias, pesq...</td>\n",
       "      <td>NaN</td>\n",
       "      <td>NaN</td>\n",
       "      <td>NaN</td>\n",
       "      <td>NaN</td>\n",
       "      <td>NaN</td>\n",
       "      <td>12351,52</td>\n",
       "      <td>2008110814004</td>\n",
       "      <td>2008-11-01</td>\n",
       "      <td>13.0</td>\n",
       "    </tr>\n",
       "    <tr>\n",
       "      <th>...</th>\n",
       "      <td>...</td>\n",
       "      <td>...</td>\n",
       "      <td>...</td>\n",
       "      <td>...</td>\n",
       "      <td>...</td>\n",
       "      <td>...</td>\n",
       "      <td>...</td>\n",
       "      <td>...</td>\n",
       "      <td>...</td>\n",
       "      <td>...</td>\n",
       "      <td>...</td>\n",
       "      <td>...</td>\n",
       "      <td>...</td>\n",
       "    </tr>\n",
       "    <tr>\n",
       "      <th>15952</th>\n",
       "      <td>2009</td>\n",
       "      <td>2</td>\n",
       "      <td>WELLINGTON SALGADO DE OLIVEIRA</td>\n",
       "      <td>Locomoção, hospedagem, alimentação, combustíve...</td>\n",
       "      <td>NaN</td>\n",
       "      <td>NaN</td>\n",
       "      <td>NaN</td>\n",
       "      <td>NaN</td>\n",
       "      <td>NaN</td>\n",
       "      <td>3058,13</td>\n",
       "      <td>2009020587703</td>\n",
       "      <td>2009-02-01</td>\n",
       "      <td>13.0</td>\n",
       "    </tr>\n",
       "    <tr>\n",
       "      <th>15953</th>\n",
       "      <td>2009</td>\n",
       "      <td>3</td>\n",
       "      <td>WELLINGTON SALGADO DE OLIVEIRA</td>\n",
       "      <td>Aluguel de imóveis para escritório político, c...</td>\n",
       "      <td>NaN</td>\n",
       "      <td>NaN</td>\n",
       "      <td>NaN</td>\n",
       "      <td>NaN</td>\n",
       "      <td>NaN</td>\n",
       "      <td>2988,72</td>\n",
       "      <td>2009030587701</td>\n",
       "      <td>2009-03-01</td>\n",
       "      <td>13.0</td>\n",
       "    </tr>\n",
       "    <tr>\n",
       "      <th>15954</th>\n",
       "      <td>2009</td>\n",
       "      <td>3</td>\n",
       "      <td>WELLINGTON SALGADO DE OLIVEIRA</td>\n",
       "      <td>Aquisição de material de consumo para uso no e...</td>\n",
       "      <td>NaN</td>\n",
       "      <td>NaN</td>\n",
       "      <td>NaN</td>\n",
       "      <td>NaN</td>\n",
       "      <td>NaN</td>\n",
       "      <td>599,56</td>\n",
       "      <td>2009030587702</td>\n",
       "      <td>2009-03-01</td>\n",
       "      <td>13.0</td>\n",
       "    </tr>\n",
       "    <tr>\n",
       "      <th>15955</th>\n",
       "      <td>2009</td>\n",
       "      <td>3</td>\n",
       "      <td>WELLINGTON SALGADO DE OLIVEIRA</td>\n",
       "      <td>Contratação de consultorias, assessorias, pesq...</td>\n",
       "      <td>NaN</td>\n",
       "      <td>NaN</td>\n",
       "      <td>NaN</td>\n",
       "      <td>NaN</td>\n",
       "      <td>NaN</td>\n",
       "      <td>3480</td>\n",
       "      <td>2009030587704</td>\n",
       "      <td>2009-03-01</td>\n",
       "      <td>13.0</td>\n",
       "    </tr>\n",
       "    <tr>\n",
       "      <th>15956</th>\n",
       "      <td>2009</td>\n",
       "      <td>3</td>\n",
       "      <td>WELLINGTON SALGADO DE OLIVEIRA</td>\n",
       "      <td>Locomoção, hospedagem, alimentação, combustíve...</td>\n",
       "      <td>NaN</td>\n",
       "      <td>NaN</td>\n",
       "      <td>NaN</td>\n",
       "      <td>NaN</td>\n",
       "      <td>NaN</td>\n",
       "      <td>4261,92</td>\n",
       "      <td>2009030587703</td>\n",
       "      <td>2009-03-01</td>\n",
       "      <td>13.0</td>\n",
       "    </tr>\n",
       "  </tbody>\n",
       "</table>\n",
       "<p>3144 rows × 13 columns</p>\n",
       "</div>"
      ],
      "text/plain": [
       "        ANO  MES                         SENADOR  \\\n",
       "0      2008    9                       ADA MELLO   \n",
       "1      2008    9                       ADA MELLO   \n",
       "2      2008   10                       ADA MELLO   \n",
       "3      2008   10                       ADA MELLO   \n",
       "4      2008   11                       ADA MELLO   \n",
       "...     ...  ...                             ...   \n",
       "15952  2009    2  WELLINGTON SALGADO DE OLIVEIRA   \n",
       "15953  2009    3  WELLINGTON SALGADO DE OLIVEIRA   \n",
       "15954  2009    3  WELLINGTON SALGADO DE OLIVEIRA   \n",
       "15955  2009    3  WELLINGTON SALGADO DE OLIVEIRA   \n",
       "15956  2009    3  WELLINGTON SALGADO DE OLIVEIRA   \n",
       "\n",
       "                                            TIPO_DESPESA CNPJ_CPF FORNECEDOR  \\\n",
       "0      Contratação de consultorias, assessorias, pesq...      NaN        NaN   \n",
       "1      Locomoção, hospedagem, alimentação, combustíve...      NaN        NaN   \n",
       "2      Contratação de consultorias, assessorias, pesq...      NaN        NaN   \n",
       "3      Locomoção, hospedagem, alimentação, combustíve...      NaN        NaN   \n",
       "4      Contratação de consultorias, assessorias, pesq...      NaN        NaN   \n",
       "...                                                  ...      ...        ...   \n",
       "15952  Locomoção, hospedagem, alimentação, combustíve...      NaN        NaN   \n",
       "15953  Aluguel de imóveis para escritório político, c...      NaN        NaN   \n",
       "15954  Aquisição de material de consumo para uso no e...      NaN        NaN   \n",
       "15955  Contratação de consultorias, assessorias, pesq...      NaN        NaN   \n",
       "15956  Locomoção, hospedagem, alimentação, combustíve...      NaN        NaN   \n",
       "\n",
       "      DOCUMENTO DATA DETALHAMENTO VALOR_REEMBOLSADO  COD_DOCUMENTO    ANO_MES  \\\n",
       "0           NaN  NaN          NaN          12351,52  2008090814004 2008-09-01   \n",
       "1           NaN  NaN          NaN             386,6  2008090814003 2008-09-01   \n",
       "2           NaN  NaN          NaN          12351,52  2008100814004 2008-10-01   \n",
       "3           NaN  NaN          NaN           2610,68  2008100814003 2008-10-01   \n",
       "4           NaN  NaN          NaN          12351,52  2008110814004 2008-11-01   \n",
       "...         ...  ...          ...               ...            ...        ...   \n",
       "15952       NaN  NaN          NaN           3058,13  2009020587703 2009-02-01   \n",
       "15953       NaN  NaN          NaN           2988,72  2009030587701 2009-03-01   \n",
       "15954       NaN  NaN          NaN            599,56  2009030587702 2009-03-01   \n",
       "15955       NaN  NaN          NaN              3480  2009030587704 2009-03-01   \n",
       "15956       NaN  NaN          NaN           4261,92  2009030587703 2009-03-01   \n",
       "\n",
       "       NUM_LETRAS_COD_DOCUMENTO  \n",
       "0                          13.0  \n",
       "1                          13.0  \n",
       "2                          13.0  \n",
       "3                          13.0  \n",
       "4                          13.0  \n",
       "...                         ...  \n",
       "15952                      13.0  \n",
       "15953                      13.0  \n",
       "15954                      13.0  \n",
       "15955                      13.0  \n",
       "15956                      13.0  \n",
       "\n",
       "[3144 rows x 13 columns]"
      ]
     },
     "execution_count": 581,
     "metadata": {},
     "output_type": "execute_result"
    }
   ],
   "source": [
    "df[(df['DOCUMENTO'].isnull()) & (df['NUM_LETRAS_COD_DOCUMENTO'] > 8)]"
   ]
  },
  {
   "cell_type": "code",
   "execution_count": 582,
   "metadata": {},
   "outputs": [
    {
     "data": {
      "text/plain": [
       "array([nan,\n",
       "       'BILHETE UTILIZADO PELO SENADOR ACIR GURGACZ. TRECHO: BRASÍLIA/ CUIABÁ. TAM-VOO-JJ-3648. DIA22/JUN/2011.',\n",
       "       'BILHETE UTILIZADO PELO SENADOR ACIR GURGACZ. TRECHO: PORTO VELHO/BRASÍLIA. TAM-VOO-JJ-3687. DIA-27/JUN/2011.',\n",
       "       ...,\n",
       "       'Companhia Aérea: TAM, Localizador: THPKVQ. Passageiros: JOSÉ DA CRUZ MARINHO (Matrícula 341141, PARLAMENTAR), Voo: 3608 - BSB/BELÉM - 22/12/2022;',\n",
       "       'Companhia Aérea: AZUL, Localizador: QNN9HX. Passageiros: JOSÉ DA CRUZ MARINHO (Matrícula 341141, PARLAMENTAR), Voo: 4112 - BEL/MAB - 23/12/2022;',\n",
       "       'Companhia Aérea: TAM, Localizador: WMQWBX. Passageiros: YURI PEREIRA CARNEIRO AGE (Matrícula 300461, COMISSIONADO), Voo: 3608 - BSB/BELÉM - 08/01/2023; YURI PEREIRA CARNEIRO AGE (Matrícula 300461, COMISSIONADO), Voo: 3609 - BELÉM/BSB - 20/01/2023;'],\n",
       "      dtype=object)"
      ]
     },
     "execution_count": 582,
     "metadata": {},
     "output_type": "execute_result"
    }
   ],
   "source": [
    "df['DETALHAMENTO'].unique()"
   ]
  },
  {
   "cell_type": "code",
   "execution_count": 583,
   "metadata": {},
   "outputs": [
    {
     "data": {
      "text/plain": [
       "293152"
      ]
     },
     "execution_count": 583,
     "metadata": {},
     "output_type": "execute_result"
    }
   ],
   "source": [
    "# len(df[df['DOCUMENTO'].isnull()]['COD_DOCUMENTO'].unique())\n",
    "len(df[df['DOCUMENTO'].notna()]['COD_DOCUMENTO'].unique())"
   ]
  },
  {
   "cell_type": "markdown",
   "metadata": {},
   "source": [
    "Campo DATA"
   ]
  },
  {
   "cell_type": "code",
   "execution_count": 584,
   "metadata": {},
   "outputs": [
    {
     "data": {
      "text/plain": [
       "array([nan, '11/12/2009', '09/12/2009', ..., '09/03/2023', '23/01/2023',\n",
       "       '01/02/2023'], dtype=object)"
      ]
     },
     "execution_count": 584,
     "metadata": {},
     "output_type": "execute_result"
    }
   ],
   "source": [
    "# DATA\n",
    "df['DATA'].unique()"
   ]
  },
  {
   "cell_type": "markdown",
   "metadata": {},
   "source": [
    "Campo DETALHAMENTO"
   ]
  },
  {
   "cell_type": "code",
   "execution_count": 585,
   "metadata": {},
   "outputs": [
    {
     "data": {
      "text/plain": [
       "array([nan])"
      ]
     },
     "execution_count": 585,
     "metadata": {},
     "output_type": "execute_result"
    }
   ],
   "source": [
    "# DETALHAMENTO\n",
    "df_ceaps_2008['DETALHAMENTO'].unique()"
   ]
  },
  {
   "cell_type": "code",
   "execution_count": null,
   "metadata": {},
   "outputs": [],
   "source": []
  },
  {
   "cell_type": "markdown",
   "metadata": {},
   "source": [
    "Identificando o encoding para conseguir ler o arquivo de forma certa"
   ]
  },
  {
   "cell_type": "code",
   "execution_count": 586,
   "metadata": {},
   "outputs": [],
   "source": [
    "# # Tente ler o arquivo CSV usando diferentes codificações até encontrar a correta\n",
    "# possible_encodings = ['utf-8', 'latin1', 'ISO-8859-1', 'cp1252']\n",
    "\n",
    "# for encoding in possible_encodings:\n",
    "#     try:\n",
    "#         df_ceaps_2022 = pd.read_csv('./datasets/despesa_ceaps_2008.csv', encoding=encoding, sep=';')\n",
    "#         print(f\"Arquivo lido com sucesso usando a codificação: {encoding}\")\n",
    "#         break\n",
    "#     except UnicodeDecodeError:\n",
    "#         print(f\"Erro ao ler o arquivo com a codificação: {encoding}\")\n",
    "\n",
    "# # Agora 'df' contém os dados do seu arquivo CSV em um DataFrame do pandas\n"
   ]
  },
  {
   "cell_type": "code",
   "execution_count": null,
   "metadata": {},
   "outputs": [],
   "source": []
  }
 ],
 "metadata": {
  "kernelspec": {
   "display_name": ".venv",
   "language": "python",
   "name": "python3"
  },
  "language_info": {
   "codemirror_mode": {
    "name": "ipython",
    "version": 3
   },
   "file_extension": ".py",
   "mimetype": "text/x-python",
   "name": "python",
   "nbconvert_exporter": "python",
   "pygments_lexer": "ipython3",
   "version": "3.11.7"
  }
 },
 "nbformat": 4,
 "nbformat_minor": 2
}
