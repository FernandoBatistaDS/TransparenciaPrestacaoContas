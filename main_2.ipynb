{
 "cells": [
  {
   "cell_type": "markdown",
   "metadata": {},
   "source": [
    "# 📌 TUTORIAL DAS CORES\n",
    "\n",
    "- <span style=\"color:white\">⬜ Padrão</span>\n",
    "- <span style=\"color:green\">🟩 Topicos</span>\n",
    "- <span style=\"color:red\">🟥 Atenção</span>\n",
    "- <span style=\"color:lightskyblue\">🟦 Informação</span>\n",
    "- <span style=\"color:yellow\">🟨 Anotação</span>\n",
    " <br> \n",
    " <br> \n",
    " ------------\n",
    "<br>\n",
    "\n",
    "## Sobre o projeto\n",
    "O nosso projeto é sobre os dados que tem no portal do CEAPS (Cota para Exercício da Atividade Parlamentar dos Senadores).\n",
    "<br>\n",
    "Basicamente, o CEAPS contém todos os gastos que senadores brasileiros declararam, divididos por ano.\n",
    "<br>\n",
    "\n",
    "## Os topicos são:\n",
    "### 0.0 - Analises e ajustes dos dados\n",
    "    -   Concatenar os CSV para trabalhar somente com um DataFrame\n",
    "    -   Detalhes (Primeira impressão)\n",
    "    -   Analisar os tipos dos campos (E concertar)\n",
    "\n",
    "### 1.0 - "
   ]
  },
  {
   "cell_type": "markdown",
   "metadata": {},
   "source": [
    "# <span style=\"color:green\"> IMPORTS</span>"
   ]
  },
  {
   "cell_type": "code",
   "execution_count": 522,
   "metadata": {},
   "outputs": [],
   "source": [
    "import  pandas  as  pd\n",
    "import  numpy   as  np\n",
    "\n",
    "import  re"
   ]
  },
  {
   "cell_type": "markdown",
   "metadata": {},
   "source": [
    "### <span style=\"color: #b0ccb1\">Importandos os dados</span>"
   ]
  },
  {
   "cell_type": "markdown",
   "metadata": {},
   "source": [
    "<span style=\"color:#007FFF\">Identificando o encoding para conseguir ler o arquivo de forma certa</span>"
   ]
  },
  {
   "cell_type": "code",
   "execution_count": 523,
   "metadata": {},
   "outputs": [],
   "source": [
    "# # Tente ler o arquivo CSV usando diferentes codificações até encontrar a correta\n",
    "# possible_encodings = ['utf-8', 'latin1', 'ISO-8859-1', 'cp1252']\n",
    "\n",
    "# for encoding in possible_encodings:\n",
    "#     try:\n",
    "#         df_ceaps_2022 = pd.read_csv('./datasets/despesa_ceaps_2008.csv', encoding=encoding, sep=';')\n",
    "#         print(f\"Arquivo lido com sucesso usando a codificação: {encoding}\")\n",
    "#         break\n",
    "#     except UnicodeDecodeError:\n",
    "#         print(f\"Erro ao ler o arquivo com a codificação: {encoding}\")\n",
    "\n",
    "# # Agora 'df' contém os dados do seu arquivo CSV em um DataFrame do pandas\n"
   ]
  },
  {
   "cell_type": "code",
   "execution_count": 524,
   "metadata": {},
   "outputs": [],
   "source": [
    "df_ceaps_2008 = pd.read_csv('./datasets/despesa_ceaps_2008.csv', encoding='ISO-8859-1', sep=';', skiprows=1, dtype={'COD_DOCUMENTO': str})\n",
    "df_ceaps_2009 = pd.read_csv('./datasets/despesa_ceaps_2009.csv', encoding='ISO-8859-1', sep=';', skiprows=1, dtype={'COD_DOCUMENTO': str})\n",
    "df_ceaps_2010 = pd.read_csv('./datasets/despesa_ceaps_2010.csv', encoding='ISO-8859-1', sep=';', skiprows=1, dtype={'COD_DOCUMENTO': str})\n",
    "df_ceaps_2011 = pd.read_csv('./datasets/despesa_ceaps_2011.csv', encoding='ISO-8859-1', sep=';', skiprows=1, dtype={'COD_DOCUMENTO': str})\n",
    "df_ceaps_2012 = pd.read_csv('./datasets/despesa_ceaps_2012.csv', encoding='ISO-8859-1', sep=';', skiprows=1, dtype={'COD_DOCUMENTO': str})\n",
    "df_ceaps_2013 = pd.read_csv('./datasets/despesa_ceaps_2013.csv', encoding='ISO-8859-1', sep=';', skiprows=1, dtype={'COD_DOCUMENTO': str})\n",
    "df_ceaps_2014 = pd.read_csv('./datasets/despesa_ceaps_2014.csv', encoding='ISO-8859-1', sep=';', skiprows=1, dtype={'COD_DOCUMENTO': str})\n",
    "df_ceaps_2015 = pd.read_csv('./datasets/despesa_ceaps_2015.csv', encoding='ISO-8859-1', sep=';', skiprows=1, dtype={'COD_DOCUMENTO': str})\n",
    "df_ceaps_2016 = pd.read_csv('./datasets/despesa_ceaps_2016.csv', encoding='ISO-8859-1', sep=';', skiprows=1, dtype={'COD_DOCUMENTO': str})\n",
    "df_ceaps_2017 = pd.read_csv('./datasets/despesa_ceaps_2017.csv', encoding='ISO-8859-1', sep=';', skiprows=1, dtype={'COD_DOCUMENTO': str})\n",
    "df_ceaps_2018 = pd.read_csv('./datasets/despesa_ceaps_2018.csv', encoding='ISO-8859-1', sep=';', skiprows=1, dtype={'COD_DOCUMENTO': str})\n",
    "df_ceaps_2019 = pd.read_csv('./datasets/despesa_ceaps_2019.csv', encoding='ISO-8859-1', sep=';', skiprows=1, dtype={'COD_DOCUMENTO': str})\n",
    "df_ceaps_2020 = pd.read_csv('./datasets/despesa_ceaps_2020.csv', encoding='ISO-8859-1', sep=';', skiprows=1, dtype={'COD_DOCUMENTO': str})\n",
    "df_ceaps_2021 = pd.read_csv('./datasets/despesa_ceaps_2021.csv', encoding='ISO-8859-1', sep=';', skiprows=1, dtype={'COD_DOCUMENTO': str})\n",
    "df_ceaps_2022 = pd.read_csv('./datasets/despesa_ceaps_2022.csv', encoding='ISO-8859-1', sep=';', skiprows=1, dtype={'COD_DOCUMENTO': str})"
   ]
  },
  {
   "cell_type": "markdown",
   "metadata": {},
   "source": [
    "# <span style=\"color:green\">0.0 Analises e ajustes dos dados</span>"
   ]
  },
  {
   "cell_type": "markdown",
   "metadata": {},
   "source": [
    "### <span style=\"color: #b0ccb1\">Concatenando os datasets</span>"
   ]
  },
  {
   "cell_type": "code",
   "execution_count": 525,
   "metadata": {},
   "outputs": [],
   "source": [
    "df = pd.concat([\n",
    "    df_ceaps_2008,\n",
    "    df_ceaps_2009,\n",
    "    df_ceaps_2010,\n",
    "    df_ceaps_2011,\n",
    "    df_ceaps_2012,\n",
    "    df_ceaps_2013,\n",
    "    df_ceaps_2014,\n",
    "    df_ceaps_2015,\n",
    "    df_ceaps_2016,\n",
    "    df_ceaps_2017,\n",
    "    df_ceaps_2018,\n",
    "    df_ceaps_2019,\n",
    "    df_ceaps_2020,\n",
    "    df_ceaps_2021,\n",
    "    df_ceaps_2022\n",
    "], axis=0)\n"
   ]
  },
  {
   "cell_type": "markdown",
   "metadata": {},
   "source": [
    "### <span style=\"color: #b0ccb1\">Detalhes (Primeira impressão)</span>\n",
    "- <span style=\"color: yellow\">Total de dados: 317963 registros</span>\n",
    "- <span style=\"color: yellow\">Faltando dados nos campos: ['CNPJ_CPF', 'FORNECEDOR', 'DOCUMENTO', 'DATA', 'DETALHAMENTO', 'COD_DOCUMENTO']</span>\n",
    "- <span style=\"color: yellow\">Tipos dos campos: \n",
    "    - ANO (int64): <span style=\"color: #dfdb98\">O ano do cadastro✔️</span>\n",
    "    - MES (int64): <span style=\"color: #dfdb98\">O mês do cadastro ✔️</span>\n",
    "    - SENADOR (object): <span style=\"color: #dfdb98\">O nome do senador ✔️</span>\n",
    "    - TIPO_DESPESA(object): <span style=\"color: #dfdb98\">Descrição da despesa ✔️</span>\n",
    "    - CNPJ_CPF(object): <span style=\"color: #dfdb98\">CNPJ da empresa (ACHISMO) ✔️</span>\n",
    "    - FORNECEDOR(object): <span style=\"color: #dfdb98\">Nome do fornecedor ✔️</span>\n",
    "    - DOCUMENTO(object): <span style=\"color: #dfdb98\">Não entendi o valor ✔️</span>\n",
    "    - DATA(object): <span style=\"color: #dfdb98\">MUDAR DE \"object\" P/ \"date\" ❌</span>\n",
    "    - DETALHAMENTO(object): <span style=\"color: #dfdb98\">Detalhe da compra ✔️</span>\n",
    "    - VALOR_REEMBOLSADO(object): <span style=\"color: #dfdb98\">MUDAR DE \"object\" P/ \"float\" ❌</span>\n",
    "    - COD_DOCUMENTO(object): <span style=\"color: #dfdb98\"> PRIMEIRA IMPRESSÃO É SOMENTE NÚMEROS, MUDAR PARA \"int64\" ❌</span>\n",
    "</span>\n"
   ]
  },
  {
   "cell_type": "code",
   "execution_count": 526,
   "metadata": {},
   "outputs": [
    {
     "data": {
      "text/plain": [
       "Index(['ANO', 'MES', 'SENADOR', 'TIPO_DESPESA', 'CNPJ_CPF', 'FORNECEDOR',\n",
       "       'DOCUMENTO', 'DATA', 'DETALHAMENTO', 'VALOR_REEMBOLSADO',\n",
       "       'COD_DOCUMENTO'],\n",
       "      dtype='object')"
      ]
     },
     "execution_count": 526,
     "metadata": {},
     "output_type": "execute_result"
    }
   ],
   "source": [
    "df.columns"
   ]
  },
  {
   "cell_type": "code",
   "execution_count": 527,
   "metadata": {},
   "outputs": [
    {
     "data": {
      "text/plain": [
       "317963"
      ]
     },
     "execution_count": 527,
     "metadata": {},
     "output_type": "execute_result"
    }
   ],
   "source": [
    "len(df)"
   ]
  },
  {
   "cell_type": "code",
   "execution_count": 528,
   "metadata": {},
   "outputs": [
    {
     "data": {
      "text/html": [
       "<div>\n",
       "<style scoped>\n",
       "    .dataframe tbody tr th:only-of-type {\n",
       "        vertical-align: middle;\n",
       "    }\n",
       "\n",
       "    .dataframe tbody tr th {\n",
       "        vertical-align: top;\n",
       "    }\n",
       "\n",
       "    .dataframe thead th {\n",
       "        text-align: right;\n",
       "    }\n",
       "</style>\n",
       "<table border=\"1\" class=\"dataframe\">\n",
       "  <thead>\n",
       "    <tr style=\"text-align: right;\">\n",
       "      <th></th>\n",
       "      <th>ANO</th>\n",
       "      <th>MES</th>\n",
       "    </tr>\n",
       "  </thead>\n",
       "  <tbody>\n",
       "    <tr>\n",
       "      <th>count</th>\n",
       "      <td>317963.000000</td>\n",
       "      <td>317963.000000</td>\n",
       "    </tr>\n",
       "    <tr>\n",
       "      <th>mean</th>\n",
       "      <td>2015.153914</td>\n",
       "      <td>6.644276</td>\n",
       "    </tr>\n",
       "    <tr>\n",
       "      <th>std</th>\n",
       "      <td>3.746778</td>\n",
       "      <td>3.308155</td>\n",
       "    </tr>\n",
       "    <tr>\n",
       "      <th>min</th>\n",
       "      <td>2008.000000</td>\n",
       "      <td>1.000000</td>\n",
       "    </tr>\n",
       "    <tr>\n",
       "      <th>25%</th>\n",
       "      <td>2012.000000</td>\n",
       "      <td>4.000000</td>\n",
       "    </tr>\n",
       "    <tr>\n",
       "      <th>50%</th>\n",
       "      <td>2015.000000</td>\n",
       "      <td>7.000000</td>\n",
       "    </tr>\n",
       "    <tr>\n",
       "      <th>75%</th>\n",
       "      <td>2018.000000</td>\n",
       "      <td>10.000000</td>\n",
       "    </tr>\n",
       "    <tr>\n",
       "      <th>max</th>\n",
       "      <td>2022.000000</td>\n",
       "      <td>12.000000</td>\n",
       "    </tr>\n",
       "  </tbody>\n",
       "</table>\n",
       "</div>"
      ],
      "text/plain": [
       "                 ANO            MES\n",
       "count  317963.000000  317963.000000\n",
       "mean     2015.153914       6.644276\n",
       "std         3.746778       3.308155\n",
       "min      2008.000000       1.000000\n",
       "25%      2012.000000       4.000000\n",
       "50%      2015.000000       7.000000\n",
       "75%      2018.000000      10.000000\n",
       "max      2022.000000      12.000000"
      ]
     },
     "execution_count": 528,
     "metadata": {},
     "output_type": "execute_result"
    }
   ],
   "source": [
    "df.describe()"
   ]
  },
  {
   "cell_type": "code",
   "execution_count": 529,
   "metadata": {},
   "outputs": [
    {
     "name": "stdout",
     "output_type": "stream",
     "text": [
      "<class 'pandas.core.frame.DataFrame'>\n",
      "Index: 317963 entries, 0 to 16781\n",
      "Data columns (total 11 columns):\n",
      " #   Column             Non-Null Count   Dtype \n",
      "---  ------             --------------   ----- \n",
      " 0   ANO                317963 non-null  int64 \n",
      " 1   MES                317963 non-null  int64 \n",
      " 2   SENADOR            317963 non-null  object\n",
      " 3   TIPO_DESPESA       317963 non-null  object\n",
      " 4   CNPJ_CPF           314819 non-null  object\n",
      " 5   FORNECEDOR         314819 non-null  object\n",
      " 6   DOCUMENTO          293153 non-null  object\n",
      " 7   DATA               314819 non-null  object\n",
      " 8   DETALHAMENTO       180631 non-null  object\n",
      " 9   VALOR_REEMBOLSADO  317963 non-null  object\n",
      " 10  COD_DOCUMENTO      317961 non-null  object\n",
      "dtypes: int64(2), object(9)\n",
      "memory usage: 29.1+ MB\n"
     ]
    }
   ],
   "source": [
    "df.info()"
   ]
  },
  {
   "cell_type": "code",
   "execution_count": 530,
   "metadata": {},
   "outputs": [
    {
     "data": {
      "text/plain": [
       "ANO                   int64\n",
       "MES                   int64\n",
       "SENADOR              object\n",
       "TIPO_DESPESA         object\n",
       "CNPJ_CPF             object\n",
       "FORNECEDOR           object\n",
       "DOCUMENTO            object\n",
       "DATA                 object\n",
       "DETALHAMENTO         object\n",
       "VALOR_REEMBOLSADO    object\n",
       "COD_DOCUMENTO        object\n",
       "dtype: object"
      ]
     },
     "execution_count": 530,
     "metadata": {},
     "output_type": "execute_result"
    }
   ],
   "source": [
    "df.dtypes"
   ]
  },
  {
   "cell_type": "code",
   "execution_count": 531,
   "metadata": {},
   "outputs": [
    {
     "data": {
      "text/html": [
       "<div>\n",
       "<style scoped>\n",
       "    .dataframe tbody tr th:only-of-type {\n",
       "        vertical-align: middle;\n",
       "    }\n",
       "\n",
       "    .dataframe tbody tr th {\n",
       "        vertical-align: top;\n",
       "    }\n",
       "\n",
       "    .dataframe thead th {\n",
       "        text-align: right;\n",
       "    }\n",
       "</style>\n",
       "<table border=\"1\" class=\"dataframe\">\n",
       "  <thead>\n",
       "    <tr style=\"text-align: right;\">\n",
       "      <th></th>\n",
       "      <th>ANO</th>\n",
       "      <th>MES</th>\n",
       "      <th>SENADOR</th>\n",
       "      <th>TIPO_DESPESA</th>\n",
       "      <th>CNPJ_CPF</th>\n",
       "      <th>FORNECEDOR</th>\n",
       "      <th>DOCUMENTO</th>\n",
       "      <th>DATA</th>\n",
       "      <th>DETALHAMENTO</th>\n",
       "      <th>VALOR_REEMBOLSADO</th>\n",
       "      <th>COD_DOCUMENTO</th>\n",
       "    </tr>\n",
       "  </thead>\n",
       "  <tbody>\n",
       "    <tr>\n",
       "      <th>16777</th>\n",
       "      <td>2022</td>\n",
       "      <td>12</td>\n",
       "      <td>ZEQUINHA MARINHO</td>\n",
       "      <td>Passagens aéreas, aquáticas e terrestres nacio...</td>\n",
       "      <td>22.052.777/0001-32</td>\n",
       "      <td>Exceller Tour</td>\n",
       "      <td>WIXHAI</td>\n",
       "      <td>06/12/2022</td>\n",
       "      <td>Companhia Aérea: LATAM, Localizador: WIXHAI. P...</td>\n",
       "      <td>2893,04</td>\n",
       "      <td>2191398</td>\n",
       "    </tr>\n",
       "    <tr>\n",
       "      <th>16778</th>\n",
       "      <td>2022</td>\n",
       "      <td>12</td>\n",
       "      <td>ZEQUINHA MARINHO</td>\n",
       "      <td>Passagens aéreas, aquáticas e terrestres nacio...</td>\n",
       "      <td>22.052.777/0001-32</td>\n",
       "      <td>Exceller Tour</td>\n",
       "      <td>WITOLM</td>\n",
       "      <td>09/12/2022</td>\n",
       "      <td>Companhia Aérea: GOL, Localizador: WITOLM. Pas...</td>\n",
       "      <td>1180,19</td>\n",
       "      <td>2192272</td>\n",
       "    </tr>\n",
       "    <tr>\n",
       "      <th>16779</th>\n",
       "      <td>2022</td>\n",
       "      <td>12</td>\n",
       "      <td>ZEQUINHA MARINHO</td>\n",
       "      <td>Passagens aéreas, aquáticas e terrestres nacio...</td>\n",
       "      <td>22.052.777/0001-32</td>\n",
       "      <td>Exceller Tour</td>\n",
       "      <td>THPKVQ</td>\n",
       "      <td>20/12/2022</td>\n",
       "      <td>Companhia Aérea: TAM, Localizador: THPKVQ. Pas...</td>\n",
       "      <td>2671,9</td>\n",
       "      <td>2192274</td>\n",
       "    </tr>\n",
       "    <tr>\n",
       "      <th>16780</th>\n",
       "      <td>2022</td>\n",
       "      <td>12</td>\n",
       "      <td>ZEQUINHA MARINHO</td>\n",
       "      <td>Passagens aéreas, aquáticas e terrestres nacio...</td>\n",
       "      <td>22.052.777/0001-32</td>\n",
       "      <td>Exceller Tour</td>\n",
       "      <td>QNN9HX</td>\n",
       "      <td>21/12/2022</td>\n",
       "      <td>Companhia Aérea: AZUL, Localizador: QNN9HX. Pa...</td>\n",
       "      <td>1334,31</td>\n",
       "      <td>2192244</td>\n",
       "    </tr>\n",
       "    <tr>\n",
       "      <th>16781</th>\n",
       "      <td>2022</td>\n",
       "      <td>12</td>\n",
       "      <td>ZEQUINHA MARINHO</td>\n",
       "      <td>Passagens aéreas, aquáticas e terrestres nacio...</td>\n",
       "      <td>22.052.777/0001-32</td>\n",
       "      <td>Exceller Tour</td>\n",
       "      <td>WMQWBX</td>\n",
       "      <td>30/12/2022</td>\n",
       "      <td>Companhia Aérea: TAM, Localizador: WMQWBX. Pas...</td>\n",
       "      <td>2250,72</td>\n",
       "      <td>2193622</td>\n",
       "    </tr>\n",
       "  </tbody>\n",
       "</table>\n",
       "</div>"
      ],
      "text/plain": [
       "        ANO  MES           SENADOR  \\\n",
       "16777  2022   12  ZEQUINHA MARINHO   \n",
       "16778  2022   12  ZEQUINHA MARINHO   \n",
       "16779  2022   12  ZEQUINHA MARINHO   \n",
       "16780  2022   12  ZEQUINHA MARINHO   \n",
       "16781  2022   12  ZEQUINHA MARINHO   \n",
       "\n",
       "                                            TIPO_DESPESA            CNPJ_CPF  \\\n",
       "16777  Passagens aéreas, aquáticas e terrestres nacio...  22.052.777/0001-32   \n",
       "16778  Passagens aéreas, aquáticas e terrestres nacio...  22.052.777/0001-32   \n",
       "16779  Passagens aéreas, aquáticas e terrestres nacio...  22.052.777/0001-32   \n",
       "16780  Passagens aéreas, aquáticas e terrestres nacio...  22.052.777/0001-32   \n",
       "16781  Passagens aéreas, aquáticas e terrestres nacio...  22.052.777/0001-32   \n",
       "\n",
       "          FORNECEDOR DOCUMENTO        DATA  \\\n",
       "16777  Exceller Tour    WIXHAI  06/12/2022   \n",
       "16778  Exceller Tour    WITOLM  09/12/2022   \n",
       "16779  Exceller Tour    THPKVQ  20/12/2022   \n",
       "16780  Exceller Tour    QNN9HX  21/12/2022   \n",
       "16781  Exceller Tour    WMQWBX  30/12/2022   \n",
       "\n",
       "                                            DETALHAMENTO VALOR_REEMBOLSADO  \\\n",
       "16777  Companhia Aérea: LATAM, Localizador: WIXHAI. P...           2893,04   \n",
       "16778  Companhia Aérea: GOL, Localizador: WITOLM. Pas...           1180,19   \n",
       "16779  Companhia Aérea: TAM, Localizador: THPKVQ. Pas...            2671,9   \n",
       "16780  Companhia Aérea: AZUL, Localizador: QNN9HX. Pa...           1334,31   \n",
       "16781  Companhia Aérea: TAM, Localizador: WMQWBX. Pas...           2250,72   \n",
       "\n",
       "      COD_DOCUMENTO  \n",
       "16777       2191398  \n",
       "16778       2192272  \n",
       "16779       2192274  \n",
       "16780       2192244  \n",
       "16781       2193622  "
      ]
     },
     "execution_count": 531,
     "metadata": {},
     "output_type": "execute_result"
    }
   ],
   "source": [
    "df.tail()"
   ]
  },
  {
   "cell_type": "markdown",
   "metadata": {},
   "source": [
    "### <span style=\"color: #b0ccb1\">Analisar campos</span>"
   ]
  },
  {
   "cell_type": "markdown",
   "metadata": {},
   "source": [
    "##### <span style=\"color: #b0ccb1\">Arrumar tipos de campos</span>"
   ]
  },
  {
   "cell_type": "markdown",
   "metadata": {},
   "source": [
    "<span style=\"color:lightskyblue\">Ajustar os campos para melhorar as analises</span>"
   ]
  },
  {
   "cell_type": "code",
   "execution_count": 532,
   "metadata": {},
   "outputs": [],
   "source": [
    "# Novo campo ['NUM_CARCTERS_COD_DOCUMENTO'] quantidade de caracteres no campo COD_DOCUMENTO\n",
    "df['NUM_CARCTERS_COD_DOCUMENTO']    =   df['COD_DOCUMENTO'].astype(str).str.len()\n",
    "\n",
    "# ANO + '_' + MES\n",
    "df['ANO_MES']                       =    pd.to_datetime(df['ANO'].astype(str) + '-' + df['MES'].astype(str), format='%Y-%m')\n",
    "\n",
    "# COD_DOCUMENTO P/ float64\n",
    "df['COD_DOCUMENTO']                 =   df['COD_DOCUMENTO'].astype('float64')\n",
    "\n",
    "# Trocando \",\" por \".\" tirando os valore \"\\r\\n\" e TIPO P/ float\n",
    "df['VALOR_REEMBOLSADO']             =   df['VALOR_REEMBOLSADO'].str.replace(',', '.')\n",
    "df['VALOR_REEMBOLSADO']             =   df['VALOR_REEMBOLSADO'].str.replace('\\r\\n', '').astype('float64')\n",
    "\n",
    "# DATA P/ date\n",
    "df['DATA_FORMAT']                   =   pd.to_datetime(df['DATA'], format='%d/%m/%Y', errors='coerce')"
   ]
  },
  {
   "cell_type": "code",
   "execution_count": 533,
   "metadata": {},
   "outputs": [
    {
     "data": {
      "text/plain": [
       "ANO                                    int64\n",
       "MES                                    int64\n",
       "SENADOR                               object\n",
       "TIPO_DESPESA                          object\n",
       "CNPJ_CPF                              object\n",
       "FORNECEDOR                            object\n",
       "DOCUMENTO                             object\n",
       "DATA                                  object\n",
       "DETALHAMENTO                          object\n",
       "VALOR_REEMBOLSADO                    float64\n",
       "COD_DOCUMENTO                        float64\n",
       "NUM_CARCTERS_COD_DOCUMENTO             int64\n",
       "ANO_MES                       datetime64[ns]\n",
       "DATA_FORMAT                   datetime64[ns]\n",
       "dtype: object"
      ]
     },
     "execution_count": 533,
     "metadata": {},
     "output_type": "execute_result"
    }
   ],
   "source": [
    "df.dtypes"
   ]
  },
  {
   "cell_type": "code",
   "execution_count": 534,
   "metadata": {},
   "outputs": [
    {
     "data": {
      "text/html": [
       "<div>\n",
       "<style scoped>\n",
       "    .dataframe tbody tr th:only-of-type {\n",
       "        vertical-align: middle;\n",
       "    }\n",
       "\n",
       "    .dataframe tbody tr th {\n",
       "        vertical-align: top;\n",
       "    }\n",
       "\n",
       "    .dataframe thead th {\n",
       "        text-align: right;\n",
       "    }\n",
       "</style>\n",
       "<table border=\"1\" class=\"dataframe\">\n",
       "  <thead>\n",
       "    <tr style=\"text-align: right;\">\n",
       "      <th></th>\n",
       "      <th>ANO</th>\n",
       "      <th>MES</th>\n",
       "      <th>SENADOR</th>\n",
       "      <th>TIPO_DESPESA</th>\n",
       "      <th>CNPJ_CPF</th>\n",
       "      <th>FORNECEDOR</th>\n",
       "      <th>DOCUMENTO</th>\n",
       "      <th>DATA</th>\n",
       "      <th>DETALHAMENTO</th>\n",
       "      <th>VALOR_REEMBOLSADO</th>\n",
       "      <th>COD_DOCUMENTO</th>\n",
       "      <th>NUM_CARCTERS_COD_DOCUMENTO</th>\n",
       "      <th>ANO_MES</th>\n",
       "      <th>DATA_FORMAT</th>\n",
       "    </tr>\n",
       "  </thead>\n",
       "  <tbody>\n",
       "    <tr>\n",
       "      <th>16777</th>\n",
       "      <td>2022</td>\n",
       "      <td>12</td>\n",
       "      <td>ZEQUINHA MARINHO</td>\n",
       "      <td>Passagens aéreas, aquáticas e terrestres nacio...</td>\n",
       "      <td>22.052.777/0001-32</td>\n",
       "      <td>Exceller Tour</td>\n",
       "      <td>WIXHAI</td>\n",
       "      <td>06/12/2022</td>\n",
       "      <td>Companhia Aérea: LATAM, Localizador: WIXHAI. P...</td>\n",
       "      <td>2893.04</td>\n",
       "      <td>2191398.0</td>\n",
       "      <td>7</td>\n",
       "      <td>2022-12-01</td>\n",
       "      <td>2022-12-06</td>\n",
       "    </tr>\n",
       "    <tr>\n",
       "      <th>16778</th>\n",
       "      <td>2022</td>\n",
       "      <td>12</td>\n",
       "      <td>ZEQUINHA MARINHO</td>\n",
       "      <td>Passagens aéreas, aquáticas e terrestres nacio...</td>\n",
       "      <td>22.052.777/0001-32</td>\n",
       "      <td>Exceller Tour</td>\n",
       "      <td>WITOLM</td>\n",
       "      <td>09/12/2022</td>\n",
       "      <td>Companhia Aérea: GOL, Localizador: WITOLM. Pas...</td>\n",
       "      <td>1180.19</td>\n",
       "      <td>2192272.0</td>\n",
       "      <td>7</td>\n",
       "      <td>2022-12-01</td>\n",
       "      <td>2022-12-09</td>\n",
       "    </tr>\n",
       "    <tr>\n",
       "      <th>16779</th>\n",
       "      <td>2022</td>\n",
       "      <td>12</td>\n",
       "      <td>ZEQUINHA MARINHO</td>\n",
       "      <td>Passagens aéreas, aquáticas e terrestres nacio...</td>\n",
       "      <td>22.052.777/0001-32</td>\n",
       "      <td>Exceller Tour</td>\n",
       "      <td>THPKVQ</td>\n",
       "      <td>20/12/2022</td>\n",
       "      <td>Companhia Aérea: TAM, Localizador: THPKVQ. Pas...</td>\n",
       "      <td>2671.90</td>\n",
       "      <td>2192274.0</td>\n",
       "      <td>7</td>\n",
       "      <td>2022-12-01</td>\n",
       "      <td>2022-12-20</td>\n",
       "    </tr>\n",
       "    <tr>\n",
       "      <th>16780</th>\n",
       "      <td>2022</td>\n",
       "      <td>12</td>\n",
       "      <td>ZEQUINHA MARINHO</td>\n",
       "      <td>Passagens aéreas, aquáticas e terrestres nacio...</td>\n",
       "      <td>22.052.777/0001-32</td>\n",
       "      <td>Exceller Tour</td>\n",
       "      <td>QNN9HX</td>\n",
       "      <td>21/12/2022</td>\n",
       "      <td>Companhia Aérea: AZUL, Localizador: QNN9HX. Pa...</td>\n",
       "      <td>1334.31</td>\n",
       "      <td>2192244.0</td>\n",
       "      <td>7</td>\n",
       "      <td>2022-12-01</td>\n",
       "      <td>2022-12-21</td>\n",
       "    </tr>\n",
       "    <tr>\n",
       "      <th>16781</th>\n",
       "      <td>2022</td>\n",
       "      <td>12</td>\n",
       "      <td>ZEQUINHA MARINHO</td>\n",
       "      <td>Passagens aéreas, aquáticas e terrestres nacio...</td>\n",
       "      <td>22.052.777/0001-32</td>\n",
       "      <td>Exceller Tour</td>\n",
       "      <td>WMQWBX</td>\n",
       "      <td>30/12/2022</td>\n",
       "      <td>Companhia Aérea: TAM, Localizador: WMQWBX. Pas...</td>\n",
       "      <td>2250.72</td>\n",
       "      <td>2193622.0</td>\n",
       "      <td>7</td>\n",
       "      <td>2022-12-01</td>\n",
       "      <td>2022-12-30</td>\n",
       "    </tr>\n",
       "  </tbody>\n",
       "</table>\n",
       "</div>"
      ],
      "text/plain": [
       "        ANO  MES           SENADOR  \\\n",
       "16777  2022   12  ZEQUINHA MARINHO   \n",
       "16778  2022   12  ZEQUINHA MARINHO   \n",
       "16779  2022   12  ZEQUINHA MARINHO   \n",
       "16780  2022   12  ZEQUINHA MARINHO   \n",
       "16781  2022   12  ZEQUINHA MARINHO   \n",
       "\n",
       "                                            TIPO_DESPESA            CNPJ_CPF  \\\n",
       "16777  Passagens aéreas, aquáticas e terrestres nacio...  22.052.777/0001-32   \n",
       "16778  Passagens aéreas, aquáticas e terrestres nacio...  22.052.777/0001-32   \n",
       "16779  Passagens aéreas, aquáticas e terrestres nacio...  22.052.777/0001-32   \n",
       "16780  Passagens aéreas, aquáticas e terrestres nacio...  22.052.777/0001-32   \n",
       "16781  Passagens aéreas, aquáticas e terrestres nacio...  22.052.777/0001-32   \n",
       "\n",
       "          FORNECEDOR DOCUMENTO        DATA  \\\n",
       "16777  Exceller Tour    WIXHAI  06/12/2022   \n",
       "16778  Exceller Tour    WITOLM  09/12/2022   \n",
       "16779  Exceller Tour    THPKVQ  20/12/2022   \n",
       "16780  Exceller Tour    QNN9HX  21/12/2022   \n",
       "16781  Exceller Tour    WMQWBX  30/12/2022   \n",
       "\n",
       "                                            DETALHAMENTO  VALOR_REEMBOLSADO  \\\n",
       "16777  Companhia Aérea: LATAM, Localizador: WIXHAI. P...            2893.04   \n",
       "16778  Companhia Aérea: GOL, Localizador: WITOLM. Pas...            1180.19   \n",
       "16779  Companhia Aérea: TAM, Localizador: THPKVQ. Pas...            2671.90   \n",
       "16780  Companhia Aérea: AZUL, Localizador: QNN9HX. Pa...            1334.31   \n",
       "16781  Companhia Aérea: TAM, Localizador: WMQWBX. Pas...            2250.72   \n",
       "\n",
       "       COD_DOCUMENTO  NUM_CARCTERS_COD_DOCUMENTO    ANO_MES DATA_FORMAT  \n",
       "16777      2191398.0                           7 2022-12-01  2022-12-06  \n",
       "16778      2192272.0                           7 2022-12-01  2022-12-09  \n",
       "16779      2192274.0                           7 2022-12-01  2022-12-20  \n",
       "16780      2192244.0                           7 2022-12-01  2022-12-21  \n",
       "16781      2193622.0                           7 2022-12-01  2022-12-30  "
      ]
     },
     "execution_count": 534,
     "metadata": {},
     "output_type": "execute_result"
    }
   ],
   "source": [
    "df.tail()"
   ]
  },
  {
   "cell_type": "markdown",
   "metadata": {},
   "source": [
    "<hr>\n",
    "\n",
    "##### <span style=\"color: #b0ccb1\">Campo: CNPJ_CPF</span>\n",
    "\n",
    "- <span style=\"color: yellow\">3144 dos dados estão com os valores nulos</span>\n",
    "- <span style=\"color: yellow\">Valores nulos de 2008-02 até 2009-03</span>\n",
    "- <span style=\"color: yellow\">Os valores começam a ser preenchidos em 2009-04</span>\n",
    "\n",
    "<span style=\"color:red\"> Não vamos deletar o campo, nem apagar as linhas. <b>Por enquanto!</b></span>\n",
    "<br>\n",
    "<span style=\"color:red\">Acredito que tenham colocado esse campo depois da data 2009-03.</span>\n",
    "<br>\n",
    "<span style=\"color:red\"><b>Preencher com \"00000000000\"</b></span>"
   ]
  },
  {
   "cell_type": "code",
   "execution_count": 535,
   "metadata": {},
   "outputs": [
    {
     "data": {
      "text/plain": [
       "(3144, 314819)"
      ]
     },
     "execution_count": 535,
     "metadata": {},
     "output_type": "execute_result"
    }
   ],
   "source": [
    "len(df[df['CNPJ_CPF'].isnull()]), len(df[df['CNPJ_CPF'].notna()])"
   ]
  },
  {
   "cell_type": "markdown",
   "metadata": {},
   "source": [
    "<span style=\"color:lightskyblue\">Min. e Max dos valores NULL</span>"
   ]
  },
  {
   "cell_type": "code",
   "execution_count": 536,
   "metadata": {},
   "outputs": [
    {
     "data": {
      "text/plain": [
       "(Timestamp('2008-02-01 00:00:00'), Timestamp('2009-03-01 00:00:00'))"
      ]
     },
     "execution_count": 536,
     "metadata": {},
     "output_type": "execute_result"
    }
   ],
   "source": [
    "df[df['CNPJ_CPF'].isnull()]['ANO_MES'].min(), df[df['CNPJ_CPF'].isnull()]['ANO_MES'].max()"
   ]
  },
  {
   "cell_type": "markdown",
   "metadata": {},
   "source": [
    "<span style=\"color:lightskyblue\">Min. e Max dos valores não NULL</span>"
   ]
  },
  {
   "cell_type": "code",
   "execution_count": 537,
   "metadata": {},
   "outputs": [
    {
     "data": {
      "text/plain": [
       "(Timestamp('2009-04-01 00:00:00'), Timestamp('2022-12-01 00:00:00'))"
      ]
     },
     "execution_count": 537,
     "metadata": {},
     "output_type": "execute_result"
    }
   ],
   "source": [
    "df[df['CNPJ_CPF'].notna()]['ANO_MES'].min(), df[df['CNPJ_CPF'].notna()]['ANO_MES'].max()"
   ]
  },
  {
   "cell_type": "code",
   "execution_count": 538,
   "metadata": {},
   "outputs": [
    {
     "name": "stderr",
     "output_type": "stream",
     "text": [
      "C:\\Users\\ferna\\AppData\\Local\\Temp\\ipykernel_23180\\2515421642.py:1: FutureWarning: A value is trying to be set on a copy of a DataFrame or Series through chained assignment using an inplace method.\n",
      "The behavior will change in pandas 3.0. This inplace method will never work because the intermediate object on which we are setting values always behaves as a copy.\n",
      "\n",
      "For example, when doing 'df[col].method(value, inplace=True)', try using 'df.method({col: value}, inplace=True)' or df[col] = df[col].method(value) instead, to perform the operation inplace on the original object.\n",
      "\n",
      "\n",
      "  df['CNPJ_CPF'].fillna(00000000000, inplace=True)\n"
     ]
    }
   ],
   "source": [
    "df['CNPJ_CPF'].fillna(00000000000, inplace=True)"
   ]
  },
  {
   "cell_type": "markdown",
   "metadata": {},
   "source": [
    "<hr>\n",
    "\n",
    "##### <span style=\"color: #b0ccb1\">Campos: FORNECEDOR</span>\n",
    "\n",
    "- <span style=\"color: yellow\">3144 dos dados estão com os valores nulos</span>\n",
    "- <span style=\"color: yellow\">Valores nulos de 2008-02 até 2009-03</span>\n",
    "- <span style=\"color: yellow\">Os valores começam a ser preenchidos em 2009-04</span>\n",
    "\n",
    "<span style=\"color:red\">Não vamos deletar o campo, nem apagar as linhas. <b>Por enquanto!</b></span>\n",
    "<br>\n",
    "<span style=\"color:red\">Preenche com <b>\"FORNECEDOR NÃO CADASTRADO\"</b></span>"
   ]
  },
  {
   "cell_type": "code",
   "execution_count": 539,
   "metadata": {},
   "outputs": [
    {
     "data": {
      "text/plain": [
       "3144"
      ]
     },
     "execution_count": 539,
     "metadata": {},
     "output_type": "execute_result"
    }
   ],
   "source": [
    "len(df[df['FORNECEDOR'].isna()])"
   ]
  },
  {
   "cell_type": "markdown",
   "metadata": {},
   "source": [
    "<span style=\"color:lightskyblue\">Min. e Max dos valores NULL</span>"
   ]
  },
  {
   "cell_type": "code",
   "execution_count": 540,
   "metadata": {},
   "outputs": [
    {
     "data": {
      "text/plain": [
       "(Timestamp('2008-02-01 00:00:00'), Timestamp('2009-03-01 00:00:00'))"
      ]
     },
     "execution_count": 540,
     "metadata": {},
     "output_type": "execute_result"
    }
   ],
   "source": [
    "df[df['FORNECEDOR'].isnull()]['ANO_MES'].min(), df[df['FORNECEDOR'].isnull()]['ANO_MES'].max()"
   ]
  },
  {
   "cell_type": "markdown",
   "metadata": {},
   "source": [
    "<span style=\"color:lightskyblue\">Min. e Max dos valores não NULL</span>"
   ]
  },
  {
   "cell_type": "code",
   "execution_count": 541,
   "metadata": {},
   "outputs": [
    {
     "data": {
      "text/plain": [
       "(Timestamp('2009-04-01 00:00:00'), Timestamp('2022-12-01 00:00:00'))"
      ]
     },
     "execution_count": 541,
     "metadata": {},
     "output_type": "execute_result"
    }
   ],
   "source": [
    "df[df['FORNECEDOR'].notna()]['ANO_MES'].min(), df[df['FORNECEDOR'].notna()]['ANO_MES'].max()"
   ]
  },
  {
   "cell_type": "code",
   "execution_count": 542,
   "metadata": {},
   "outputs": [
    {
     "name": "stderr",
     "output_type": "stream",
     "text": [
      "C:\\Users\\ferna\\AppData\\Local\\Temp\\ipykernel_23180\\2007456774.py:1: FutureWarning: A value is trying to be set on a copy of a DataFrame or Series through chained assignment using an inplace method.\n",
      "The behavior will change in pandas 3.0. This inplace method will never work because the intermediate object on which we are setting values always behaves as a copy.\n",
      "\n",
      "For example, when doing 'df[col].method(value, inplace=True)', try using 'df.method({col: value}, inplace=True)' or df[col] = df[col].method(value) instead, to perform the operation inplace on the original object.\n",
      "\n",
      "\n",
      "  df['FORNECEDOR'].fillna('FORNECEDOR NÃO CADASTRADO', inplace=True)\n"
     ]
    }
   ],
   "source": [
    "df['FORNECEDOR'].fillna('FORNECEDOR NÃO CADASTRADO', inplace=True)"
   ]
  },
  {
   "cell_type": "markdown",
   "metadata": {},
   "source": [
    "<hr>\n",
    "\n",
    "##### <span style=\"color: #b0ccb1\">Campos: DOCUMENTO</span>\n",
    "\n",
    "- <span style=\"color:yellow\">24810 dos dados estão com os valores nulos</span>\n",
    "- <span style=\"color:yellow\">221607 valores unicos</span>\n",
    "- <span style=\"color:yellow\"><b>NULOS</b> de 2008-02 até 2009-03, <b>mas ainda tem valores nulos depois dessa data</b></span>\n",
    "- <span style=\"color:yellow\">NUM_CARCTERS_COD_DOCUMENTO > 7 o DOCUMENTO é tudo NULL, <b> tem valores nulos com 6 e 7 caracteres</b></span>\n",
    "<br><br>\n",
    "<span style=\"color:red\">NUM_CARCTERS_COD_DOCUMENTO < 6 pode deletar</span>\n",
    "<br>\n",
    "<span style=\"color:red\">NUM_CARCTERS_COD_DOCUMENTO > 7 inserir valor <b>'NÃO PREENCHIDO'</b></span>"
   ]
  },
  {
   "cell_type": "markdown",
   "metadata": {},
   "source": [
    "<span style=\"color: lightskyblue\">Vendo se tem NUM_LETRAS_COD_DOCUMENTO > 8 na epoca que não tinha dados</span>"
   ]
  },
  {
   "cell_type": "code",
   "execution_count": 543,
   "metadata": {},
   "outputs": [
    {
     "data": {
      "text/plain": [
       "(3144, 3144)"
      ]
     },
     "execution_count": 543,
     "metadata": {},
     "output_type": "execute_result"
    }
   ],
   "source": [
    "len(df.loc[( (df['ANO_MES'] < '2009-04-01') & (df['NUM_CARCTERS_COD_DOCUMENTO'] > 8) )]), len( df.loc[df['ANO_MES'] < '2009-04-01' ] )"
   ]
  },
  {
   "cell_type": "code",
   "execution_count": 573,
   "metadata": {},
   "outputs": [
    {
     "data": {
      "text/plain": [
       "(0, 317961)"
      ]
     },
     "execution_count": 573,
     "metadata": {},
     "output_type": "execute_result"
    }
   ],
   "source": [
    "len(df[df['DOCUMENTO'].isna()]), len(df[df['DOCUMENTO'].notna()])"
   ]
  },
  {
   "cell_type": "code",
   "execution_count": 572,
   "metadata": {},
   "outputs": [
    {
     "name": "stdout",
     "output_type": "stream",
     "text": [
      "Nulos\n"
     ]
    },
    {
     "data": {
      "text/plain": [
       "(NaT, NaT)"
      ]
     },
     "execution_count": 572,
     "metadata": {},
     "output_type": "execute_result"
    }
   ],
   "source": [
    "print(\"Nulos\")\n",
    "df[df['DOCUMENTO'].isnull()]['ANO_MES'].min(), df[df['DOCUMENTO'].isnull()]['ANO_MES'].max()"
   ]
  },
  {
   "cell_type": "code",
   "execution_count": 560,
   "metadata": {},
   "outputs": [
    {
     "name": "stdout",
     "output_type": "stream",
     "text": [
      "Não nulos\n"
     ]
    },
    {
     "data": {
      "text/plain": [
       "(Timestamp('2009-04-01 00:00:00'), Timestamp('2022-12-01 00:00:00'))"
      ]
     },
     "execution_count": 560,
     "metadata": {},
     "output_type": "execute_result"
    }
   ],
   "source": [
    "print(\"Não nulos\")\n",
    "df[df['DOCUMENTO'].notna()]['ANO_MES'].min(), df[df['DOCUMENTO'].notna()]['ANO_MES'].max()"
   ]
  },
  {
   "cell_type": "code",
   "execution_count": 570,
   "metadata": {},
   "outputs": [
    {
     "name": "stdout",
     "output_type": "stream",
     "text": [
      "Valores não NULOS, min e max: 6 e 13\n"
     ]
    }
   ],
   "source": [
    "print(\"Valores não NULOS, min e max: {} e {}\".format(df[(df['DOCUMENTO'].notna())]['NUM_CARCTERS_COD_DOCUMENTO'].min(), df[(df['DOCUMENTO'].notna())]['NUM_CARCTERS_COD_DOCUMENTO'].max()))"
   ]
  },
  {
   "cell_type": "code",
   "execution_count": 564,
   "metadata": {},
   "outputs": [
    {
     "name": "stdout",
     "output_type": "stream",
     "text": [
      "Valores NULOS, min e max: 6 e 13\n"
     ]
    }
   ],
   "source": [
    "print(\"Valores NULOS, min e max: {} e {}\".format(df[(df['DOCUMENTO'].isnull())]['NUM_CARCTERS_COD_DOCUMENTO'].min(), df[(df['DOCUMENTO'].isnull())]['NUM_CARCTERS_COD_DOCUMENTO'].max()))"
   ]
  },
  {
   "cell_type": "markdown",
   "metadata": {},
   "source": [
    "<span style=\"color: lightskyblue\">DELETA NUM_LETRAS_COD_DOCUMENTO < 5</span>"
   ]
  },
  {
   "cell_type": "code",
   "execution_count": 550,
   "metadata": {},
   "outputs": [],
   "source": [
    "# Criar uma máscara booleana para identificar as linhas onde 'NUM_CARCTERS_COD_DOCUMENTO' seja menor que 5\n",
    "mascara = df['NUM_CARCTERS_COD_DOCUMENTO'] < 5\n",
    "\n",
    "# Usar a máscara para selecionar as linhas que não atendem ao critério e deletá-las do DataFrame\n",
    "df = df[~mascara]"
   ]
  },
  {
   "cell_type": "markdown",
   "metadata": {},
   "source": [
    "<span style=\"color: lightskyblue\">NULOS & NUM_CARCTERS_COD_DOCUMENTO > 7 inserir valor <b>'NÃO PREENCHIDO'</b></span>"
   ]
  },
  {
   "cell_type": "code",
   "execution_count": 568,
   "metadata": {},
   "outputs": [],
   "source": [
    "mascara = (df['DOCUMENTO'].isnull()) & (df['NUM_CARCTERS_COD_DOCUMENTO'] > 7)\n",
    "df.loc[mascara, 'DOCUMENTO'] = 'NÃO PREENCHIDO'"
   ]
  },
  {
   "cell_type": "markdown",
   "metadata": {},
   "source": [
    "<span style=\"color: lightskyblue\">NULOS & NUM_CARCTERS_COD_DOCUMENTO < 8 inserir valor <b>'POSSIVEL PREENCHIMENTO'</b></span>"
   ]
  },
  {
   "cell_type": "code",
   "execution_count": 571,
   "metadata": {},
   "outputs": [],
   "source": [
    "mascara = (df['DOCUMENTO'].isnull()) & (df['NUM_CARCTERS_COD_DOCUMENTO'] < 8)\n",
    "df.loc[mascara, 'DOCUMENTO'] = 'POSSIVEL PREENCHIMENTO'"
   ]
  },
  {
   "cell_type": "markdown",
   "metadata": {},
   "source": [
    "<hr>\n",
    "\n",
    "##### <span style=\"color: #b0ccb1\">Campos: DATA</span>\n",
    "\n",
    "- <span style=\"color:yellow\">3144 dados nulos</span>\n",
    "- <span style=\"color:yellow\">Valores nulos de 2008-02 até 2009-03</span>\n",
    "- <span style=\"color:yellow\">Os valores começam a ser preenchidos em 2009-04</span>\n",
    "- <span style=\"color:yellow\">Identificamos que tem DATA que são as mesma do ANO_MES, <b>mas algumas não</b></span>\n",
    "<br><br>\n",
    "<span style=\"color:red\">Verificar as <b>datas diferentes do ANO_MES</b> se tem alguma coisa em comun</span>\n"
   ]
  },
  {
   "cell_type": "code",
   "execution_count": 574,
   "metadata": {},
   "outputs": [
    {
     "data": {
      "text/plain": [
       "3144"
      ]
     },
     "execution_count": 574,
     "metadata": {},
     "output_type": "execute_result"
    }
   ],
   "source": [
    "len(df[df['DATA'].isnull()])"
   ]
  },
  {
   "cell_type": "code",
   "execution_count": 575,
   "metadata": {},
   "outputs": [
    {
     "name": "stdout",
     "output_type": "stream",
     "text": [
      "NULOS\n"
     ]
    },
    {
     "data": {
      "text/plain": [
       "(Timestamp('2008-02-01 00:00:00'), Timestamp('2009-03-01 00:00:00'))"
      ]
     },
     "execution_count": 575,
     "metadata": {},
     "output_type": "execute_result"
    }
   ],
   "source": [
    "print('NULOS')\n",
    "df[df['DATA'].isnull()]['ANO_MES'].min(), df[df['DATA'].isnull()]['ANO_MES'].max()"
   ]
  },
  {
   "cell_type": "code",
   "execution_count": 576,
   "metadata": {},
   "outputs": [
    {
     "name": "stdout",
     "output_type": "stream",
     "text": [
      "NÃO NULOS\n"
     ]
    },
    {
     "data": {
      "text/plain": [
       "(Timestamp('2009-04-01 00:00:00'), Timestamp('2022-12-01 00:00:00'))"
      ]
     },
     "execution_count": 576,
     "metadata": {},
     "output_type": "execute_result"
    }
   ],
   "source": [
    "print('NÃO NULOS')\n",
    "df[df['DATA'].notna()]['ANO_MES'].min(), df[df['DATA'].notna()]['ANO_MES'].max()"
   ]
  },
  {
   "cell_type": "code",
   "execution_count": 579,
   "metadata": {},
   "outputs": [
    {
     "data": {
      "text/html": [
       "<div>\n",
       "<style scoped>\n",
       "    .dataframe tbody tr th:only-of-type {\n",
       "        vertical-align: middle;\n",
       "    }\n",
       "\n",
       "    .dataframe tbody tr th {\n",
       "        vertical-align: top;\n",
       "    }\n",
       "\n",
       "    .dataframe thead th {\n",
       "        text-align: right;\n",
       "    }\n",
       "</style>\n",
       "<table border=\"1\" class=\"dataframe\">\n",
       "  <thead>\n",
       "    <tr style=\"text-align: right;\">\n",
       "      <th></th>\n",
       "      <th>ANO</th>\n",
       "      <th>MES</th>\n",
       "      <th>SENADOR</th>\n",
       "      <th>TIPO_DESPESA</th>\n",
       "      <th>CNPJ_CPF</th>\n",
       "      <th>FORNECEDOR</th>\n",
       "      <th>DOCUMENTO</th>\n",
       "      <th>DATA</th>\n",
       "      <th>DETALHAMENTO</th>\n",
       "      <th>VALOR_REEMBOLSADO</th>\n",
       "      <th>COD_DOCUMENTO</th>\n",
       "      <th>NUM_CARCTERS_COD_DOCUMENTO</th>\n",
       "      <th>ANO_MES</th>\n",
       "      <th>DATA_FORMAT</th>\n",
       "    </tr>\n",
       "  </thead>\n",
       "  <tbody>\n",
       "    <tr>\n",
       "      <th>16781</th>\n",
       "      <td>2022</td>\n",
       "      <td>12</td>\n",
       "      <td>ZEQUINHA MARINHO</td>\n",
       "      <td>Passagens aéreas, aquáticas e terrestres nacio...</td>\n",
       "      <td>22.052.777/0001-32</td>\n",
       "      <td>Exceller Tour</td>\n",
       "      <td>WMQWBX</td>\n",
       "      <td>30/12/2022</td>\n",
       "      <td>Companhia Aérea: TAM, Localizador: WMQWBX. Pas...</td>\n",
       "      <td>2250.72</td>\n",
       "      <td>2193622.0</td>\n",
       "      <td>7</td>\n",
       "      <td>2022-12-01</td>\n",
       "      <td>2022-12-30</td>\n",
       "    </tr>\n",
       "  </tbody>\n",
       "</table>\n",
       "</div>"
      ],
      "text/plain": [
       "        ANO  MES           SENADOR  \\\n",
       "16781  2022   12  ZEQUINHA MARINHO   \n",
       "\n",
       "                                            TIPO_DESPESA            CNPJ_CPF  \\\n",
       "16781  Passagens aéreas, aquáticas e terrestres nacio...  22.052.777/0001-32   \n",
       "\n",
       "          FORNECEDOR DOCUMENTO        DATA  \\\n",
       "16781  Exceller Tour    WMQWBX  30/12/2022   \n",
       "\n",
       "                                            DETALHAMENTO  VALOR_REEMBOLSADO  \\\n",
       "16781  Companhia Aérea: TAM, Localizador: WMQWBX. Pas...            2250.72   \n",
       "\n",
       "       COD_DOCUMENTO  NUM_CARCTERS_COD_DOCUMENTO    ANO_MES DATA_FORMAT  \n",
       "16781      2193622.0                           7 2022-12-01  2022-12-30  "
      ]
     },
     "execution_count": 579,
     "metadata": {},
     "output_type": "execute_result"
    }
   ],
   "source": [
    "df.tail(1)"
   ]
  },
  {
   "cell_type": "markdown",
   "metadata": {},
   "source": [
    "<hr>\n",
    "\n",
    "##### <span style=\"color: #b0ccb1\">Campos: DETALHAMENTO</span>\n",
    "\n",
    "- <span style=\"color:yellow\">137332 dados nulos</span>\n",
    "- <span style=\"color:yellow\"><b>NÃO NULOS</b> apartir 2011-04-01</span>\n",
    "- <span style=\"color:yellow\">Tem valores NULOS depois da data 2011-04-01</span>\n",
    "<br><br>\n",
    "<span style=\"color:red\">Analisar melhor</span>\n"
   ]
  },
  {
   "cell_type": "code",
   "execution_count": 593,
   "metadata": {},
   "outputs": [
    {
     "name": "stdout",
     "output_type": "stream",
     "text": [
      "NULLs 137332 | Não NULLS 180629\n"
     ]
    }
   ],
   "source": [
    "print(\"NULLs {} | Não NULLS {}\".format(len(df[df['DETALHAMENTO'].isnull()]), len(df[df['DETALHAMENTO'].notnull()])))"
   ]
  },
  {
   "cell_type": "code",
   "execution_count": 589,
   "metadata": {},
   "outputs": [
    {
     "name": "stdout",
     "output_type": "stream",
     "text": [
      "Valore únicos: 108500\n"
     ]
    }
   ],
   "source": [
    "print(\"Valore únicos: {}\".format(len(df['DETALHAMENTO'].unique())))"
   ]
  },
  {
   "cell_type": "code",
   "execution_count": 583,
   "metadata": {},
   "outputs": [
    {
     "name": "stdout",
     "output_type": "stream",
     "text": [
      "NULOS\n"
     ]
    },
    {
     "data": {
      "text/plain": [
       "(Timestamp('2008-02-01 00:00:00'), Timestamp('2022-12-01 00:00:00'))"
      ]
     },
     "execution_count": 583,
     "metadata": {},
     "output_type": "execute_result"
    }
   ],
   "source": [
    "print('NULOS')\n",
    "df[df['DETALHAMENTO'].isnull()]['ANO_MES'].min(), df[df['DETALHAMENTO'].isnull()]['ANO_MES'].max()"
   ]
  },
  {
   "cell_type": "code",
   "execution_count": 584,
   "metadata": {},
   "outputs": [
    {
     "name": "stdout",
     "output_type": "stream",
     "text": [
      "NÃO NULOS\n"
     ]
    },
    {
     "data": {
      "text/plain": [
       "(Timestamp('2011-04-01 00:00:00'), Timestamp('2022-12-01 00:00:00'))"
      ]
     },
     "execution_count": 584,
     "metadata": {},
     "output_type": "execute_result"
    }
   ],
   "source": [
    "print('NÃO NULOS')\n",
    "df[df['DETALHAMENTO'].notna()]['ANO_MES'].min(), df[df['DETALHAMENTO'].notna()]['ANO_MES'].max()"
   ]
  },
  {
   "cell_type": "markdown",
   "metadata": {},
   "source": [
    "<hr>\n",
    "\n",
    "##### <span style=\"color: #b0ccb1\">Campos: COD_DOCUMENTO</span>\n",
    "\n",
    "- <span style=\"color:yellow\">3144 dados nulos</span>\n",
    "- <span style=\"color:yellow\">Valores nulos de 2008-02 até 2009-03</span>\n",
    "- <span style=\"color:yellow\">Os valores começam a ser preenchidos em 2009-04</span>\n",
    "- <span style=\"color:yellow\">Identificamos que tem DATA que são as mesma do ANO_MES, <b>mas algumas não</b></span>\n",
    "<br><br>\n",
    "<span style=\"color:red\">Verificar as <b>datas diferentes do ANO_MES</b> se tem alguma coisa em comun</span>\n"
   ]
  },
  {
   "cell_type": "markdown",
   "metadata": {},
   "source": [
    "# <span style=\"color:green\">1.0 Configuração dos campos</span>"
   ]
  },
  {
   "cell_type": "markdown",
   "metadata": {},
   "source": [
    "# <span style=\"color:green\">0.0 Analisar os dados</span>"
   ]
  },
  {
   "cell_type": "markdown",
   "metadata": {},
   "source": [
    "# <span style=\"color:green\">0.0 Analisar os dados</span>"
   ]
  },
  {
   "cell_type": "markdown",
   "metadata": {},
   "source": [
    "# <span style=\"color:green\">0.0 Analisar os dados</span>"
   ]
  },
  {
   "cell_type": "markdown",
   "metadata": {},
   "source": [
    "# <span style=\"color:green\">0.0 Analisar os dados</span>"
   ]
  },
  {
   "cell_type": "code",
   "execution_count": null,
   "metadata": {},
   "outputs": [],
   "source": []
  }
 ],
 "metadata": {
  "kernelspec": {
   "display_name": ".venv",
   "language": "python",
   "name": "python3"
  },
  "language_info": {
   "codemirror_mode": {
    "name": "ipython",
    "version": 3
   },
   "file_extension": ".py",
   "mimetype": "text/x-python",
   "name": "python",
   "nbconvert_exporter": "python",
   "pygments_lexer": "ipython3",
   "version": "3.11.7"
  }
 },
 "nbformat": 4,
 "nbformat_minor": 2
}
