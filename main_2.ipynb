{
 "cells": [
  {
   "cell_type": "markdown",
   "metadata": {},
   "source": [
    "# 📌 TUTORIAL DAS CORES\n",
    "\n",
    "- <span style=\"color:white\">⬜ Qualquer escrita</span>\n",
    "- <span style=\"color:green\">🟩 Topicos</span>\n",
    "- <span style=\"color:red\">🟥 Atenção</span>\n",
    "- <span style=\"color:#007FFF\">🟦 Informação</span>\n",
    "- <span style=\"color:yellow\">🟨 Anotação</span>\n",
    " <br> \n",
    " <br> \n",
    " ------------\n",
    "<br>\n",
    "\n",
    "## Sobre o projeto\n",
    "O nosso projeto é sobre os dados que tem no portal do CEAPS (Cota para Exercício da Atividade Parlamentar dos Senadores).\n",
    "<br>\n",
    "Basicamente, o CEAPS contém todos os gastos que senadores brasileiros declararam, divididos por ano.\n",
    "<br>\n",
    "\n",
    "## Os topicos são:\n",
    "### 0.0 - Analisar os dados\n",
    "### 1.0 - "
   ]
  },
  {
   "cell_type": "markdown",
   "metadata": {},
   "source": [
    "# <span style=\"color:green\"> IMPORTS</span>"
   ]
  },
  {
   "cell_type": "code",
   "execution_count": null,
   "metadata": {},
   "outputs": [],
   "source": [
    "import  pandas  as  pd\n",
    "import  numpy   as  np\n",
    "\n",
    "import  re"
   ]
  },
  {
   "cell_type": "markdown",
   "metadata": {},
   "source": [
    "# <span style=\"color:green\">0.0 Analisar os dados</span>"
   ]
  },
  {
   "cell_type": "markdown",
   "metadata": {},
   "source": [
    "### <span style=\"color: #b0ccb1\">Importandos os dados</span>"
   ]
  },
  {
   "cell_type": "code",
   "execution_count": null,
   "metadata": {},
   "outputs": [],
   "source": [
    "df_ceaps_2008 = pd.read_csv('./datasets/despesa_ceaps_2008.csv', encoding='ISO-8859-1', sep=';', skiprows=1, dtype={'COD_DOCUMENTO': str})\n",
    "df_ceaps_2009 = pd.read_csv('./datasets/despesa_ceaps_2009.csv', encoding='ISO-8859-1', sep=';', skiprows=1, dtype={'COD_DOCUMENTO': str})\n",
    "df_ceaps_2010 = pd.read_csv('./datasets/despesa_ceaps_2010.csv', encoding='ISO-8859-1', sep=';', skiprows=1, dtype={'COD_DOCUMENTO': str})\n",
    "df_ceaps_2011 = pd.read_csv('./datasets/despesa_ceaps_2011.csv', encoding='ISO-8859-1', sep=';', skiprows=1, dtype={'COD_DOCUMENTO': str})\n",
    "df_ceaps_2012 = pd.read_csv('./datasets/despesa_ceaps_2012.csv', encoding='ISO-8859-1', sep=';', skiprows=1, dtype={'COD_DOCUMENTO': str})\n",
    "df_ceaps_2013 = pd.read_csv('./datasets/despesa_ceaps_2013.csv', encoding='ISO-8859-1', sep=';', skiprows=1, dtype={'COD_DOCUMENTO': str})\n",
    "df_ceaps_2014 = pd.read_csv('./datasets/despesa_ceaps_2014.csv', encoding='ISO-8859-1', sep=';', skiprows=1, dtype={'COD_DOCUMENTO': str})\n",
    "df_ceaps_2015 = pd.read_csv('./datasets/despesa_ceaps_2015.csv', encoding='ISO-8859-1', sep=';', skiprows=1, dtype={'COD_DOCUMENTO': str})\n",
    "df_ceaps_2016 = pd.read_csv('./datasets/despesa_ceaps_2016.csv', encoding='ISO-8859-1', sep=';', skiprows=1, dtype={'COD_DOCUMENTO': str})\n",
    "df_ceaps_2017 = pd.read_csv('./datasets/despesa_ceaps_2017.csv', encoding='ISO-8859-1', sep=';', skiprows=1, dtype={'COD_DOCUMENTO': str})\n",
    "df_ceaps_2018 = pd.read_csv('./datasets/despesa_ceaps_2018.csv', encoding='ISO-8859-1', sep=';', skiprows=1, dtype={'COD_DOCUMENTO': str})\n",
    "df_ceaps_2019 = pd.read_csv('./datasets/despesa_ceaps_2019.csv', encoding='ISO-8859-1', sep=';', skiprows=1, dtype={'COD_DOCUMENTO': str})\n",
    "df_ceaps_2020 = pd.read_csv('./datasets/despesa_ceaps_2020.csv', encoding='ISO-8859-1', sep=';', skiprows=1, dtype={'COD_DOCUMENTO': str})\n",
    "df_ceaps_2021 = pd.read_csv('./datasets/despesa_ceaps_2021.csv', encoding='ISO-8859-1', sep=';', skiprows=1, dtype={'COD_DOCUMENTO': str})\n",
    "df_ceaps_2022 = pd.read_csv('./datasets/despesa_ceaps_2022.csv', encoding='ISO-8859-1', sep=';', skiprows=1, dtype={'COD_DOCUMENTO': str})"
   ]
  },
  {
   "cell_type": "markdown",
   "metadata": {},
   "source": [
    "### <span style=\"color: #b0ccb1\">Concatenando os datasets</span>"
   ]
  },
  {
   "cell_type": "code",
   "execution_count": null,
   "metadata": {},
   "outputs": [],
   "source": [
    "df = pd.concat([\n",
    "    df_ceaps_2008,\n",
    "    df_ceaps_2009,\n",
    "    df_ceaps_2010,\n",
    "    df_ceaps_2011,\n",
    "    df_ceaps_2012,\n",
    "    df_ceaps_2013,\n",
    "    df_ceaps_2014,\n",
    "    df_ceaps_2015,\n",
    "    df_ceaps_2016,\n",
    "    df_ceaps_2017,\n",
    "    df_ceaps_2018,\n",
    "    df_ceaps_2019,\n",
    "    df_ceaps_2020,\n",
    "    df_ceaps_2021,\n",
    "    df_ceaps_2022\n",
    "], axis=0)\n"
   ]
  },
  {
   "cell_type": "markdown",
   "metadata": {},
   "source": [
    "### <span style=\"color: #b0ccb1\">Detalhes (Primeira impressão)</span>\n",
    "- <span style=\"color: yellow\">Total de dados: 317963 registros</span>\n",
    "- <span style=\"color: yellow\">Faltando dados nos campos: ['CNPJ_CPF', 'FORNECEDOR', 'DOCUMENTO', 'DATA', 'DETALHAMENTO', 'COD_DOCUMENTO']</span>\n",
    "- <span style=\"color: yellow\">Tipos dos campos: \n",
    "    - ANO (int64): <span style=\"color: #dfdb98\">O ano do cadastro✔️</span>\n",
    "    - MES (int64): <span style=\"color: #dfdb98\">O mês do cadastro ✔️</span>\n",
    "    - SENADOR (object): <span style=\"color: #dfdb98\">O nome do senador ✔️</span>\n",
    "    - TIPO_DESPESA(object): <span style=\"color: #dfdb98\">Descrição da despesa ✔️</span>\n",
    "    - CNPJ_CPF(object): <span style=\"color: #dfdb98\">CNPJ da empresa (ACHISMO) ✔️</span>\n",
    "    - FORNECEDOR(object): <span style=\"color: #dfdb98\">Nome do fornecedor ✔️</span>\n",
    "    - DOCUMENTO(object): <span style=\"color: #dfdb98\">Não entendi o valor ✔️</span>\n",
    "    - DATA(object): <span style=\"color: #dfdb98\">MUDAR DE \"object\" P/ \"date\" ❌</span>\n",
    "    - DETALHAMENTO(object): <span style=\"color: #dfdb98\">Detalhe da compra ✔️</span>\n",
    "    - VALOR_REEMBOLSADO(object): <span style=\"color: #dfdb98\">MUDAR DE \"object\" P/ \"float\" ❌</span>\n",
    "    - COD_DOCUMENTO(object): <span style=\"color: #dfdb98\"> PRIMEIRA IMPRESSÃO É SOMENTE NÚMEROS, MUDAR PARA \"int64\" ❌</span>\n",
    "</span>\n"
   ]
  },
  {
   "cell_type": "code",
   "execution_count": 11,
   "metadata": {},
   "outputs": [
    {
     "data": {
      "text/plain": [
       "Index(['ANO', 'MES', 'SENADOR', 'TIPO_DESPESA', 'CNPJ_CPF', 'FORNECEDOR',\n",
       "       'DOCUMENTO', 'DATA', 'DETALHAMENTO', 'VALOR_REEMBOLSADO',\n",
       "       'COD_DOCUMENTO'],\n",
       "      dtype='object')"
      ]
     },
     "execution_count": 11,
     "metadata": {},
     "output_type": "execute_result"
    }
   ],
   "source": [
    "df.columns"
   ]
  },
  {
   "cell_type": "code",
   "execution_count": null,
   "metadata": {},
   "outputs": [],
   "source": [
    "len(df)"
   ]
  },
  {
   "cell_type": "code",
   "execution_count": null,
   "metadata": {},
   "outputs": [],
   "source": [
    "df.describe()"
   ]
  },
  {
   "cell_type": "code",
   "execution_count": null,
   "metadata": {},
   "outputs": [],
   "source": [
    "df.info()"
   ]
  },
  {
   "cell_type": "code",
   "execution_count": 10,
   "metadata": {},
   "outputs": [
    {
     "data": {
      "text/plain": [
       "ANO                   int64\n",
       "MES                   int64\n",
       "SENADOR              object\n",
       "TIPO_DESPESA         object\n",
       "CNPJ_CPF             object\n",
       "FORNECEDOR           object\n",
       "DOCUMENTO            object\n",
       "DATA                 object\n",
       "DETALHAMENTO         object\n",
       "VALOR_REEMBOLSADO    object\n",
       "COD_DOCUMENTO        object\n",
       "dtype: object"
      ]
     },
     "execution_count": 10,
     "metadata": {},
     "output_type": "execute_result"
    }
   ],
   "source": [
    "df.dtypes"
   ]
  },
  {
   "cell_type": "code",
   "execution_count": 13,
   "metadata": {},
   "outputs": [
    {
     "data": {
      "text/html": [
       "<div>\n",
       "<style scoped>\n",
       "    .dataframe tbody tr th:only-of-type {\n",
       "        vertical-align: middle;\n",
       "    }\n",
       "\n",
       "    .dataframe tbody tr th {\n",
       "        vertical-align: top;\n",
       "    }\n",
       "\n",
       "    .dataframe thead th {\n",
       "        text-align: right;\n",
       "    }\n",
       "</style>\n",
       "<table border=\"1\" class=\"dataframe\">\n",
       "  <thead>\n",
       "    <tr style=\"text-align: right;\">\n",
       "      <th></th>\n",
       "      <th>ANO</th>\n",
       "      <th>MES</th>\n",
       "      <th>SENADOR</th>\n",
       "      <th>TIPO_DESPESA</th>\n",
       "      <th>CNPJ_CPF</th>\n",
       "      <th>FORNECEDOR</th>\n",
       "      <th>DOCUMENTO</th>\n",
       "      <th>DATA</th>\n",
       "      <th>DETALHAMENTO</th>\n",
       "      <th>VALOR_REEMBOLSADO</th>\n",
       "      <th>COD_DOCUMENTO</th>\n",
       "    </tr>\n",
       "  </thead>\n",
       "  <tbody>\n",
       "    <tr>\n",
       "      <th>16777</th>\n",
       "      <td>2022</td>\n",
       "      <td>12</td>\n",
       "      <td>ZEQUINHA MARINHO</td>\n",
       "      <td>Passagens aéreas, aquáticas e terrestres nacio...</td>\n",
       "      <td>22.052.777/0001-32</td>\n",
       "      <td>Exceller Tour</td>\n",
       "      <td>WIXHAI</td>\n",
       "      <td>06/12/2022</td>\n",
       "      <td>Companhia Aérea: LATAM, Localizador: WIXHAI. P...</td>\n",
       "      <td>2893,04</td>\n",
       "      <td>2191398</td>\n",
       "    </tr>\n",
       "    <tr>\n",
       "      <th>16778</th>\n",
       "      <td>2022</td>\n",
       "      <td>12</td>\n",
       "      <td>ZEQUINHA MARINHO</td>\n",
       "      <td>Passagens aéreas, aquáticas e terrestres nacio...</td>\n",
       "      <td>22.052.777/0001-32</td>\n",
       "      <td>Exceller Tour</td>\n",
       "      <td>WITOLM</td>\n",
       "      <td>09/12/2022</td>\n",
       "      <td>Companhia Aérea: GOL, Localizador: WITOLM. Pas...</td>\n",
       "      <td>1180,19</td>\n",
       "      <td>2192272</td>\n",
       "    </tr>\n",
       "    <tr>\n",
       "      <th>16779</th>\n",
       "      <td>2022</td>\n",
       "      <td>12</td>\n",
       "      <td>ZEQUINHA MARINHO</td>\n",
       "      <td>Passagens aéreas, aquáticas e terrestres nacio...</td>\n",
       "      <td>22.052.777/0001-32</td>\n",
       "      <td>Exceller Tour</td>\n",
       "      <td>THPKVQ</td>\n",
       "      <td>20/12/2022</td>\n",
       "      <td>Companhia Aérea: TAM, Localizador: THPKVQ. Pas...</td>\n",
       "      <td>2671,9</td>\n",
       "      <td>2192274</td>\n",
       "    </tr>\n",
       "    <tr>\n",
       "      <th>16780</th>\n",
       "      <td>2022</td>\n",
       "      <td>12</td>\n",
       "      <td>ZEQUINHA MARINHO</td>\n",
       "      <td>Passagens aéreas, aquáticas e terrestres nacio...</td>\n",
       "      <td>22.052.777/0001-32</td>\n",
       "      <td>Exceller Tour</td>\n",
       "      <td>QNN9HX</td>\n",
       "      <td>21/12/2022</td>\n",
       "      <td>Companhia Aérea: AZUL, Localizador: QNN9HX. Pa...</td>\n",
       "      <td>1334,31</td>\n",
       "      <td>2192244</td>\n",
       "    </tr>\n",
       "    <tr>\n",
       "      <th>16781</th>\n",
       "      <td>2022</td>\n",
       "      <td>12</td>\n",
       "      <td>ZEQUINHA MARINHO</td>\n",
       "      <td>Passagens aéreas, aquáticas e terrestres nacio...</td>\n",
       "      <td>22.052.777/0001-32</td>\n",
       "      <td>Exceller Tour</td>\n",
       "      <td>WMQWBX</td>\n",
       "      <td>30/12/2022</td>\n",
       "      <td>Companhia Aérea: TAM, Localizador: WMQWBX. Pas...</td>\n",
       "      <td>2250,72</td>\n",
       "      <td>2193622</td>\n",
       "    </tr>\n",
       "  </tbody>\n",
       "</table>\n",
       "</div>"
      ],
      "text/plain": [
       "        ANO  MES           SENADOR  \\\n",
       "16777  2022   12  ZEQUINHA MARINHO   \n",
       "16778  2022   12  ZEQUINHA MARINHO   \n",
       "16779  2022   12  ZEQUINHA MARINHO   \n",
       "16780  2022   12  ZEQUINHA MARINHO   \n",
       "16781  2022   12  ZEQUINHA MARINHO   \n",
       "\n",
       "                                            TIPO_DESPESA            CNPJ_CPF  \\\n",
       "16777  Passagens aéreas, aquáticas e terrestres nacio...  22.052.777/0001-32   \n",
       "16778  Passagens aéreas, aquáticas e terrestres nacio...  22.052.777/0001-32   \n",
       "16779  Passagens aéreas, aquáticas e terrestres nacio...  22.052.777/0001-32   \n",
       "16780  Passagens aéreas, aquáticas e terrestres nacio...  22.052.777/0001-32   \n",
       "16781  Passagens aéreas, aquáticas e terrestres nacio...  22.052.777/0001-32   \n",
       "\n",
       "          FORNECEDOR DOCUMENTO        DATA  \\\n",
       "16777  Exceller Tour    WIXHAI  06/12/2022   \n",
       "16778  Exceller Tour    WITOLM  09/12/2022   \n",
       "16779  Exceller Tour    THPKVQ  20/12/2022   \n",
       "16780  Exceller Tour    QNN9HX  21/12/2022   \n",
       "16781  Exceller Tour    WMQWBX  30/12/2022   \n",
       "\n",
       "                                            DETALHAMENTO VALOR_REEMBOLSADO  \\\n",
       "16777  Companhia Aérea: LATAM, Localizador: WIXHAI. P...           2893,04   \n",
       "16778  Companhia Aérea: GOL, Localizador: WITOLM. Pas...           1180,19   \n",
       "16779  Companhia Aérea: TAM, Localizador: THPKVQ. Pas...            2671,9   \n",
       "16780  Companhia Aérea: AZUL, Localizador: QNN9HX. Pa...           1334,31   \n",
       "16781  Companhia Aérea: TAM, Localizador: WMQWBX. Pas...           2250,72   \n",
       "\n",
       "      COD_DOCUMENTO  \n",
       "16777       2191398  \n",
       "16778       2192272  \n",
       "16779       2192274  \n",
       "16780       2192244  \n",
       "16781       2193622  "
      ]
     },
     "execution_count": 13,
     "metadata": {},
     "output_type": "execute_result"
    }
   ],
   "source": [
    "df.tail()"
   ]
  },
  {
   "cell_type": "markdown",
   "metadata": {},
   "source": [
    "### <span style=\"color: #b0ccb1\">Analisar campos</span>"
   ]
  },
  {
   "cell_type": "markdown",
   "metadata": {},
   "source": [
    "##### <span style=\"color: #b0ccb1\">Campos: CNPJ_CPF</span>"
   ]
  },
  {
   "cell_type": "markdown",
   "metadata": {},
   "source": [
    "##### <span style=\"color: #b0ccb1\">Campos: FORNECEDOR</span>"
   ]
  },
  {
   "cell_type": "markdown",
   "metadata": {},
   "source": [
    "##### <span style=\"color: #b0ccb1\">Campos: DOCUMENTO</span>"
   ]
  },
  {
   "cell_type": "markdown",
   "metadata": {},
   "source": [
    "##### <span style=\"color: #b0ccb1\">Campos: DATA</span>"
   ]
  },
  {
   "cell_type": "markdown",
   "metadata": {},
   "source": [
    "##### <span style=\"color: #b0ccb1\">Campos: DETALHAMENTO</span>"
   ]
  },
  {
   "cell_type": "markdown",
   "metadata": {},
   "source": [
    "##### <span style=\"color: #b0ccb1\">Campos: COD_DOCUMENTO</span>"
   ]
  },
  {
   "cell_type": "markdown",
   "metadata": {},
   "source": [
    "# <span style=\"color:green\">1.0 Configuração de campos</span>"
   ]
  },
  {
   "cell_type": "markdown",
   "metadata": {},
   "source": [
    "# <span style=\"color:green\">0.0 Analisar os dados</span>"
   ]
  },
  {
   "cell_type": "markdown",
   "metadata": {},
   "source": [
    "# <span style=\"color:green\">0.0 Analisar os dados</span>"
   ]
  },
  {
   "cell_type": "markdown",
   "metadata": {},
   "source": [
    "# <span style=\"color:green\">0.0 Analisar os dados</span>"
   ]
  },
  {
   "cell_type": "markdown",
   "metadata": {},
   "source": [
    "# <span style=\"color:green\">0.0 Analisar os dados</span>"
   ]
  },
  {
   "cell_type": "code",
   "execution_count": null,
   "metadata": {},
   "outputs": [],
   "source": []
  }
 ],
 "metadata": {
  "kernelspec": {
   "display_name": ".venv",
   "language": "python",
   "name": "python3"
  },
  "language_info": {
   "codemirror_mode": {
    "name": "ipython",
    "version": 3
   },
   "file_extension": ".py",
   "mimetype": "text/x-python",
   "name": "python",
   "nbconvert_exporter": "python",
   "pygments_lexer": "ipython3",
   "version": "3.11.9"
  }
 },
 "nbformat": 4,
 "nbformat_minor": 2
}
